{
 "cells": [
  {
   "cell_type": "code",
   "execution_count": 1,
   "metadata": {},
   "outputs": [],
   "source": [
    "import pandas as pd\n",
    "import numpy as np\n",
    "import matplotlib.pyplot as plt\n",
    "import seaborn as sns\n",
    "from sklearn.preprocessing import RobustScaler\n",
    "from sklearn.metrics import roc_curve, auc\n",
    "from sklearn.metrics import roc_auc_score\n",
    "from sklearn.cluster import KMeans\n",
    "from sklearn import datasets\n",
    "from io import StringIO\n",
    "from sklearn.tree import export_graphviz\n",
    "from sklearn.model_selection import train_test_split, cross_val_score\n",
    "from sklearn import tree\n",
    "from sklearn import metrics\n",
    "from sklearn.metrics import precision_score, recall_score, f1_score, roc_auc_score, accuracy_score, classification_report,confusion_matrix\n",
    "%matplotlib inline"
   ]
  },
  {
   "cell_type": "code",
   "execution_count": 2,
   "metadata": {},
   "outputs": [
    {
     "data": {
      "text/html": [
       "<div>\n",
       "<style scoped>\n",
       "    .dataframe tbody tr th:only-of-type {\n",
       "        vertical-align: middle;\n",
       "    }\n",
       "\n",
       "    .dataframe tbody tr th {\n",
       "        vertical-align: top;\n",
       "    }\n",
       "\n",
       "    .dataframe thead th {\n",
       "        text-align: right;\n",
       "    }\n",
       "</style>\n",
       "<table border=\"1\" class=\"dataframe\">\n",
       "  <thead>\n",
       "    <tr style=\"text-align: right;\">\n",
       "      <th></th>\n",
       "      <th>Loan_ID</th>\n",
       "      <th>Gender</th>\n",
       "      <th>Married</th>\n",
       "      <th>Dependents</th>\n",
       "      <th>Education</th>\n",
       "      <th>Self_Employed</th>\n",
       "      <th>ApplicantIncome</th>\n",
       "      <th>CoapplicantIncome</th>\n",
       "      <th>LoanAmount</th>\n",
       "      <th>Loan_Amount_Term</th>\n",
       "      <th>Credit_History</th>\n",
       "      <th>Property_Area</th>\n",
       "      <th>Loan_Status</th>\n",
       "    </tr>\n",
       "  </thead>\n",
       "  <tbody>\n",
       "    <tr>\n",
       "      <th>0</th>\n",
       "      <td>LP001002</td>\n",
       "      <td>Male</td>\n",
       "      <td>No</td>\n",
       "      <td>0</td>\n",
       "      <td>Graduate</td>\n",
       "      <td>No</td>\n",
       "      <td>5849</td>\n",
       "      <td>0.0</td>\n",
       "      <td>NaN</td>\n",
       "      <td>360.0</td>\n",
       "      <td>1.0</td>\n",
       "      <td>Urban</td>\n",
       "      <td>Y</td>\n",
       "    </tr>\n",
       "    <tr>\n",
       "      <th>1</th>\n",
       "      <td>LP001003</td>\n",
       "      <td>Male</td>\n",
       "      <td>Yes</td>\n",
       "      <td>1</td>\n",
       "      <td>Graduate</td>\n",
       "      <td>No</td>\n",
       "      <td>4583</td>\n",
       "      <td>1508.0</td>\n",
       "      <td>128.0</td>\n",
       "      <td>360.0</td>\n",
       "      <td>1.0</td>\n",
       "      <td>Rural</td>\n",
       "      <td>N</td>\n",
       "    </tr>\n",
       "    <tr>\n",
       "      <th>2</th>\n",
       "      <td>LP001005</td>\n",
       "      <td>Male</td>\n",
       "      <td>Yes</td>\n",
       "      <td>0</td>\n",
       "      <td>Graduate</td>\n",
       "      <td>Yes</td>\n",
       "      <td>3000</td>\n",
       "      <td>0.0</td>\n",
       "      <td>66.0</td>\n",
       "      <td>360.0</td>\n",
       "      <td>1.0</td>\n",
       "      <td>Urban</td>\n",
       "      <td>Y</td>\n",
       "    </tr>\n",
       "    <tr>\n",
       "      <th>3</th>\n",
       "      <td>LP001006</td>\n",
       "      <td>Male</td>\n",
       "      <td>Yes</td>\n",
       "      <td>0</td>\n",
       "      <td>Not Graduate</td>\n",
       "      <td>No</td>\n",
       "      <td>2583</td>\n",
       "      <td>2358.0</td>\n",
       "      <td>120.0</td>\n",
       "      <td>360.0</td>\n",
       "      <td>1.0</td>\n",
       "      <td>Urban</td>\n",
       "      <td>Y</td>\n",
       "    </tr>\n",
       "    <tr>\n",
       "      <th>4</th>\n",
       "      <td>LP001008</td>\n",
       "      <td>Male</td>\n",
       "      <td>No</td>\n",
       "      <td>0</td>\n",
       "      <td>Graduate</td>\n",
       "      <td>No</td>\n",
       "      <td>6000</td>\n",
       "      <td>0.0</td>\n",
       "      <td>141.0</td>\n",
       "      <td>360.0</td>\n",
       "      <td>1.0</td>\n",
       "      <td>Urban</td>\n",
       "      <td>Y</td>\n",
       "    </tr>\n",
       "  </tbody>\n",
       "</table>\n",
       "</div>"
      ],
      "text/plain": [
       "    Loan_ID Gender Married Dependents     Education Self_Employed  \\\n",
       "0  LP001002   Male      No          0      Graduate            No   \n",
       "1  LP001003   Male     Yes          1      Graduate            No   \n",
       "2  LP001005   Male     Yes          0      Graduate           Yes   \n",
       "3  LP001006   Male     Yes          0  Not Graduate            No   \n",
       "4  LP001008   Male      No          0      Graduate            No   \n",
       "\n",
       "   ApplicantIncome  CoapplicantIncome  LoanAmount  Loan_Amount_Term  \\\n",
       "0             5849                0.0         NaN             360.0   \n",
       "1             4583             1508.0       128.0             360.0   \n",
       "2             3000                0.0        66.0             360.0   \n",
       "3             2583             2358.0       120.0             360.0   \n",
       "4             6000                0.0       141.0             360.0   \n",
       "\n",
       "   Credit_History Property_Area Loan_Status  \n",
       "0             1.0         Urban           Y  \n",
       "1             1.0         Rural           N  \n",
       "2             1.0         Urban           Y  \n",
       "3             1.0         Urban           Y  \n",
       "4             1.0         Urban           Y  "
      ]
     },
     "execution_count": 2,
     "metadata": {},
     "output_type": "execute_result"
    }
   ],
   "source": [
    "#load data file\n",
    "data = pd.read_csv(r\"C:\\Users\\Lt col Haider\\OneDrive\\IBA\\semester 4\\Foundations to Data Science\\project\\loan_data_set.csv\")\n",
    "data.head()"
   ]
  },
  {
   "cell_type": "code",
   "execution_count": 3,
   "metadata": {},
   "outputs": [
    {
     "data": {
      "text/plain": [
       "(614, 13)"
      ]
     },
     "execution_count": 3,
     "metadata": {},
     "output_type": "execute_result"
    }
   ],
   "source": [
    "data.shape"
   ]
  },
  {
   "cell_type": "markdown",
   "metadata": {},
   "source": [
    "# Data Cleaning"
   ]
  },
  {
   "cell_type": "code",
   "execution_count": 4,
   "metadata": {},
   "outputs": [],
   "source": [
    "#Loan_ID is a unique variable so drop it\n",
    "data =  data.drop(columns = ['Loan_ID'])"
   ]
  },
  {
   "cell_type": "code",
   "execution_count": 5,
   "metadata": {},
   "outputs": [],
   "source": [
    "#re-label categorical variables\n",
    "data.Loan_Status.replace({'Y': 0, 'N':1}, inplace=True)\n",
    "data.Gender.replace({'Male':1, 'Female':0}, inplace=True)\n",
    "data.Married.replace({'Yes': 1, 'No':0}, inplace=True)\n",
    "data.Education.replace({'Graduate': 1, 'Not Graduate':0}, inplace=True)\n",
    "data.Self_Employed.replace({'Yes': 1, 'No':0}, inplace=True)"
   ]
  },
  {
   "cell_type": "code",
   "execution_count": 6,
   "metadata": {},
   "outputs": [],
   "source": [
    "#create dummy variables for 'Property_Area' and 'Dependents'\n",
    "data = data.join(pd.get_dummies(data.Dependents, prefix='Dependents'))\n",
    "data.drop(columns= ['Dependents'], inplace=True)\n",
    "data = data.join(pd.get_dummies(data.Property_Area, prefix='Property_Area'))\n",
    "data.drop(columns= ['Property_Area'], inplace=True)"
   ]
  },
  {
   "cell_type": "code",
   "execution_count": 7,
   "metadata": {},
   "outputs": [
    {
     "data": {
      "text/html": [
       "<div>\n",
       "<style scoped>\n",
       "    .dataframe tbody tr th:only-of-type {\n",
       "        vertical-align: middle;\n",
       "    }\n",
       "\n",
       "    .dataframe tbody tr th {\n",
       "        vertical-align: top;\n",
       "    }\n",
       "\n",
       "    .dataframe thead th {\n",
       "        text-align: right;\n",
       "    }\n",
       "</style>\n",
       "<table border=\"1\" class=\"dataframe\">\n",
       "  <thead>\n",
       "    <tr style=\"text-align: right;\">\n",
       "      <th></th>\n",
       "      <th>Gender</th>\n",
       "      <th>Married</th>\n",
       "      <th>Education</th>\n",
       "      <th>Self_Employed</th>\n",
       "      <th>ApplicantIncome</th>\n",
       "      <th>CoapplicantIncome</th>\n",
       "      <th>LoanAmount</th>\n",
       "      <th>Loan_Amount_Term</th>\n",
       "      <th>Credit_History</th>\n",
       "      <th>Loan_Status</th>\n",
       "      <th>Dependents_0</th>\n",
       "      <th>Dependents_1</th>\n",
       "      <th>Dependents_2</th>\n",
       "      <th>Dependents_3+</th>\n",
       "      <th>Property_Area_Rural</th>\n",
       "      <th>Property_Area_Semiurban</th>\n",
       "      <th>Property_Area_Urban</th>\n",
       "    </tr>\n",
       "  </thead>\n",
       "  <tbody>\n",
       "    <tr>\n",
       "      <th>0</th>\n",
       "      <td>1.0</td>\n",
       "      <td>0.0</td>\n",
       "      <td>1</td>\n",
       "      <td>0.0</td>\n",
       "      <td>5849</td>\n",
       "      <td>0.0</td>\n",
       "      <td>NaN</td>\n",
       "      <td>360.0</td>\n",
       "      <td>1.0</td>\n",
       "      <td>0</td>\n",
       "      <td>1</td>\n",
       "      <td>0</td>\n",
       "      <td>0</td>\n",
       "      <td>0</td>\n",
       "      <td>0</td>\n",
       "      <td>0</td>\n",
       "      <td>1</td>\n",
       "    </tr>\n",
       "    <tr>\n",
       "      <th>1</th>\n",
       "      <td>1.0</td>\n",
       "      <td>1.0</td>\n",
       "      <td>1</td>\n",
       "      <td>0.0</td>\n",
       "      <td>4583</td>\n",
       "      <td>1508.0</td>\n",
       "      <td>128.0</td>\n",
       "      <td>360.0</td>\n",
       "      <td>1.0</td>\n",
       "      <td>1</td>\n",
       "      <td>0</td>\n",
       "      <td>1</td>\n",
       "      <td>0</td>\n",
       "      <td>0</td>\n",
       "      <td>1</td>\n",
       "      <td>0</td>\n",
       "      <td>0</td>\n",
       "    </tr>\n",
       "    <tr>\n",
       "      <th>2</th>\n",
       "      <td>1.0</td>\n",
       "      <td>1.0</td>\n",
       "      <td>1</td>\n",
       "      <td>1.0</td>\n",
       "      <td>3000</td>\n",
       "      <td>0.0</td>\n",
       "      <td>66.0</td>\n",
       "      <td>360.0</td>\n",
       "      <td>1.0</td>\n",
       "      <td>0</td>\n",
       "      <td>1</td>\n",
       "      <td>0</td>\n",
       "      <td>0</td>\n",
       "      <td>0</td>\n",
       "      <td>0</td>\n",
       "      <td>0</td>\n",
       "      <td>1</td>\n",
       "    </tr>\n",
       "    <tr>\n",
       "      <th>3</th>\n",
       "      <td>1.0</td>\n",
       "      <td>1.0</td>\n",
       "      <td>0</td>\n",
       "      <td>0.0</td>\n",
       "      <td>2583</td>\n",
       "      <td>2358.0</td>\n",
       "      <td>120.0</td>\n",
       "      <td>360.0</td>\n",
       "      <td>1.0</td>\n",
       "      <td>0</td>\n",
       "      <td>1</td>\n",
       "      <td>0</td>\n",
       "      <td>0</td>\n",
       "      <td>0</td>\n",
       "      <td>0</td>\n",
       "      <td>0</td>\n",
       "      <td>1</td>\n",
       "    </tr>\n",
       "    <tr>\n",
       "      <th>4</th>\n",
       "      <td>1.0</td>\n",
       "      <td>0.0</td>\n",
       "      <td>1</td>\n",
       "      <td>0.0</td>\n",
       "      <td>6000</td>\n",
       "      <td>0.0</td>\n",
       "      <td>141.0</td>\n",
       "      <td>360.0</td>\n",
       "      <td>1.0</td>\n",
       "      <td>0</td>\n",
       "      <td>1</td>\n",
       "      <td>0</td>\n",
       "      <td>0</td>\n",
       "      <td>0</td>\n",
       "      <td>0</td>\n",
       "      <td>0</td>\n",
       "      <td>1</td>\n",
       "    </tr>\n",
       "  </tbody>\n",
       "</table>\n",
       "</div>"
      ],
      "text/plain": [
       "   Gender  Married  Education  Self_Employed  ApplicantIncome  \\\n",
       "0     1.0      0.0          1            0.0             5849   \n",
       "1     1.0      1.0          1            0.0             4583   \n",
       "2     1.0      1.0          1            1.0             3000   \n",
       "3     1.0      1.0          0            0.0             2583   \n",
       "4     1.0      0.0          1            0.0             6000   \n",
       "\n",
       "   CoapplicantIncome  LoanAmount  Loan_Amount_Term  Credit_History  \\\n",
       "0                0.0         NaN             360.0             1.0   \n",
       "1             1508.0       128.0             360.0             1.0   \n",
       "2                0.0        66.0             360.0             1.0   \n",
       "3             2358.0       120.0             360.0             1.0   \n",
       "4                0.0       141.0             360.0             1.0   \n",
       "\n",
       "   Loan_Status  Dependents_0  Dependents_1  Dependents_2  Dependents_3+  \\\n",
       "0            0             1             0             0              0   \n",
       "1            1             0             1             0              0   \n",
       "2            0             1             0             0              0   \n",
       "3            0             1             0             0              0   \n",
       "4            0             1             0             0              0   \n",
       "\n",
       "   Property_Area_Rural  Property_Area_Semiurban  Property_Area_Urban  \n",
       "0                    0                        0                    1  \n",
       "1                    1                        0                    0  \n",
       "2                    0                        0                    1  \n",
       "3                    0                        0                    1  \n",
       "4                    0                        0                    1  "
      ]
     },
     "execution_count": 7,
     "metadata": {},
     "output_type": "execute_result"
    }
   ],
   "source": [
    "data.head()"
   ]
  },
  {
   "cell_type": "code",
   "execution_count": 8,
   "metadata": {},
   "outputs": [
    {
     "data": {
      "text/html": [
       "<div>\n",
       "<style scoped>\n",
       "    .dataframe tbody tr th:only-of-type {\n",
       "        vertical-align: middle;\n",
       "    }\n",
       "\n",
       "    .dataframe tbody tr th {\n",
       "        vertical-align: top;\n",
       "    }\n",
       "\n",
       "    .dataframe thead th {\n",
       "        text-align: right;\n",
       "    }\n",
       "</style>\n",
       "<table border=\"1\" class=\"dataframe\">\n",
       "  <thead>\n",
       "    <tr style=\"text-align: right;\">\n",
       "      <th></th>\n",
       "      <th>Credit_History</th>\n",
       "      <th>Self_Employed</th>\n",
       "      <th>LoanAmount</th>\n",
       "      <th>Loan_Amount_Term</th>\n",
       "      <th>Gender</th>\n",
       "      <th>Married</th>\n",
       "      <th>Dependents_1</th>\n",
       "      <th>Dependents_0</th>\n",
       "      <th>Loan_Status</th>\n",
       "      <th>Property_Area_Semiurban</th>\n",
       "      <th>Dependents_2</th>\n",
       "      <th>Dependents_3+</th>\n",
       "      <th>CoapplicantIncome</th>\n",
       "      <th>ApplicantIncome</th>\n",
       "      <th>Property_Area_Rural</th>\n",
       "      <th>Education</th>\n",
       "      <th>Property_Area_Urban</th>\n",
       "    </tr>\n",
       "  </thead>\n",
       "  <tbody>\n",
       "    <tr>\n",
       "      <th>Total</th>\n",
       "      <td>50.000000</td>\n",
       "      <td>32.000000</td>\n",
       "      <td>22.000000</td>\n",
       "      <td>14.00000</td>\n",
       "      <td>13.000000</td>\n",
       "      <td>3.000000</td>\n",
       "      <td>0.0</td>\n",
       "      <td>0.0</td>\n",
       "      <td>0.0</td>\n",
       "      <td>0.0</td>\n",
       "      <td>0.0</td>\n",
       "      <td>0.0</td>\n",
       "      <td>0.0</td>\n",
       "      <td>0.0</td>\n",
       "      <td>0.0</td>\n",
       "      <td>0.0</td>\n",
       "      <td>0.0</td>\n",
       "    </tr>\n",
       "    <tr>\n",
       "      <th>Percent</th>\n",
       "      <td>8.143322</td>\n",
       "      <td>5.211726</td>\n",
       "      <td>3.583062</td>\n",
       "      <td>2.28013</td>\n",
       "      <td>2.117264</td>\n",
       "      <td>0.488599</td>\n",
       "      <td>0.0</td>\n",
       "      <td>0.0</td>\n",
       "      <td>0.0</td>\n",
       "      <td>0.0</td>\n",
       "      <td>0.0</td>\n",
       "      <td>0.0</td>\n",
       "      <td>0.0</td>\n",
       "      <td>0.0</td>\n",
       "      <td>0.0</td>\n",
       "      <td>0.0</td>\n",
       "      <td>0.0</td>\n",
       "    </tr>\n",
       "  </tbody>\n",
       "</table>\n",
       "</div>"
      ],
      "text/plain": [
       "         Credit_History  Self_Employed  LoanAmount  Loan_Amount_Term  \\\n",
       "Total         50.000000      32.000000   22.000000          14.00000   \n",
       "Percent        8.143322       5.211726    3.583062           2.28013   \n",
       "\n",
       "            Gender   Married  Dependents_1  Dependents_0  Loan_Status  \\\n",
       "Total    13.000000  3.000000           0.0           0.0          0.0   \n",
       "Percent   2.117264  0.488599           0.0           0.0          0.0   \n",
       "\n",
       "         Property_Area_Semiurban  Dependents_2  Dependents_3+  \\\n",
       "Total                        0.0           0.0            0.0   \n",
       "Percent                      0.0           0.0            0.0   \n",
       "\n",
       "         CoapplicantIncome  ApplicantIncome  Property_Area_Rural  Education  \\\n",
       "Total                  0.0              0.0                  0.0        0.0   \n",
       "Percent                0.0              0.0                  0.0        0.0   \n",
       "\n",
       "         Property_Area_Urban  \n",
       "Total                    0.0  \n",
       "Percent                  0.0  "
      ]
     },
     "execution_count": 8,
     "metadata": {},
     "output_type": "execute_result"
    }
   ],
   "source": [
    "#check for missing values \n",
    "total = data.isnull().sum().sort_values(ascending = False)\n",
    "percent = (data.isnull().sum()/data.isnull().count()*100).sort_values(ascending = False)\n",
    "pd.concat([total, percent], axis=1, keys=['Total', 'Percent']).transpose()"
   ]
  },
  {
   "cell_type": "code",
   "execution_count": 9,
   "metadata": {},
   "outputs": [],
   "source": [
    "#Normalize data for effective KNN Imputation\n",
    "#will manually normalize as NaN values present so preprocessing can't be used\n",
    "def normalize(data):\n",
    "    return (data - data.min()) * 1.0 / (data.max() - data.min())\n",
    "data = data.apply(normalize)"
   ]
  },
  {
   "cell_type": "code",
   "execution_count": 10,
   "metadata": {},
   "outputs": [],
   "source": [
    "#Apply KNN Imputation\n",
    "from sklearn.impute import KNNImputer\n",
    "imputer = KNNImputer(n_neighbors=15)\n",
    "df = imputer.fit_transform(data)"
   ]
  },
  {
   "cell_type": "code",
   "execution_count": 11,
   "metadata": {},
   "outputs": [
    {
     "data": {
      "text/html": [
       "<div>\n",
       "<style scoped>\n",
       "    .dataframe tbody tr th:only-of-type {\n",
       "        vertical-align: middle;\n",
       "    }\n",
       "\n",
       "    .dataframe tbody tr th {\n",
       "        vertical-align: top;\n",
       "    }\n",
       "\n",
       "    .dataframe thead th {\n",
       "        text-align: right;\n",
       "    }\n",
       "</style>\n",
       "<table border=\"1\" class=\"dataframe\">\n",
       "  <thead>\n",
       "    <tr style=\"text-align: right;\">\n",
       "      <th></th>\n",
       "      <th>Gender</th>\n",
       "      <th>Married</th>\n",
       "      <th>Education</th>\n",
       "      <th>Self_Employed</th>\n",
       "      <th>ApplicantIncome</th>\n",
       "      <th>CoapplicantIncome</th>\n",
       "      <th>LoanAmount</th>\n",
       "      <th>Loan_Amount_Term</th>\n",
       "      <th>Credit_History</th>\n",
       "      <th>Loan_Status</th>\n",
       "      <th>Dependents_0</th>\n",
       "      <th>Dependents_1</th>\n",
       "      <th>Dependents_2</th>\n",
       "      <th>Dependents_3+</th>\n",
       "      <th>Property_Area_Rural</th>\n",
       "      <th>Property_Area_Semiurban</th>\n",
       "      <th>Property_Area_Urban</th>\n",
       "    </tr>\n",
       "  </thead>\n",
       "  <tbody>\n",
       "    <tr>\n",
       "      <th>0</th>\n",
       "      <td>1.0</td>\n",
       "      <td>0.0</td>\n",
       "      <td>1.0</td>\n",
       "      <td>0.0</td>\n",
       "      <td>0.070489</td>\n",
       "      <td>0.000000</td>\n",
       "      <td>0.159672</td>\n",
       "      <td>0.74359</td>\n",
       "      <td>1.0</td>\n",
       "      <td>0.0</td>\n",
       "      <td>1.0</td>\n",
       "      <td>0.0</td>\n",
       "      <td>0.0</td>\n",
       "      <td>0.0</td>\n",
       "      <td>0.0</td>\n",
       "      <td>0.0</td>\n",
       "      <td>1.0</td>\n",
       "    </tr>\n",
       "    <tr>\n",
       "      <th>1</th>\n",
       "      <td>1.0</td>\n",
       "      <td>1.0</td>\n",
       "      <td>1.0</td>\n",
       "      <td>0.0</td>\n",
       "      <td>0.054830</td>\n",
       "      <td>0.036192</td>\n",
       "      <td>0.172214</td>\n",
       "      <td>0.74359</td>\n",
       "      <td>1.0</td>\n",
       "      <td>1.0</td>\n",
       "      <td>0.0</td>\n",
       "      <td>1.0</td>\n",
       "      <td>0.0</td>\n",
       "      <td>0.0</td>\n",
       "      <td>1.0</td>\n",
       "      <td>0.0</td>\n",
       "      <td>0.0</td>\n",
       "    </tr>\n",
       "    <tr>\n",
       "      <th>2</th>\n",
       "      <td>1.0</td>\n",
       "      <td>1.0</td>\n",
       "      <td>1.0</td>\n",
       "      <td>1.0</td>\n",
       "      <td>0.035250</td>\n",
       "      <td>0.000000</td>\n",
       "      <td>0.082489</td>\n",
       "      <td>0.74359</td>\n",
       "      <td>1.0</td>\n",
       "      <td>0.0</td>\n",
       "      <td>1.0</td>\n",
       "      <td>0.0</td>\n",
       "      <td>0.0</td>\n",
       "      <td>0.0</td>\n",
       "      <td>0.0</td>\n",
       "      <td>0.0</td>\n",
       "      <td>1.0</td>\n",
       "    </tr>\n",
       "    <tr>\n",
       "      <th>3</th>\n",
       "      <td>1.0</td>\n",
       "      <td>1.0</td>\n",
       "      <td>0.0</td>\n",
       "      <td>0.0</td>\n",
       "      <td>0.030093</td>\n",
       "      <td>0.056592</td>\n",
       "      <td>0.160637</td>\n",
       "      <td>0.74359</td>\n",
       "      <td>1.0</td>\n",
       "      <td>0.0</td>\n",
       "      <td>1.0</td>\n",
       "      <td>0.0</td>\n",
       "      <td>0.0</td>\n",
       "      <td>0.0</td>\n",
       "      <td>0.0</td>\n",
       "      <td>0.0</td>\n",
       "      <td>1.0</td>\n",
       "    </tr>\n",
       "    <tr>\n",
       "      <th>4</th>\n",
       "      <td>1.0</td>\n",
       "      <td>0.0</td>\n",
       "      <td>1.0</td>\n",
       "      <td>0.0</td>\n",
       "      <td>0.072356</td>\n",
       "      <td>0.000000</td>\n",
       "      <td>0.191027</td>\n",
       "      <td>0.74359</td>\n",
       "      <td>1.0</td>\n",
       "      <td>0.0</td>\n",
       "      <td>1.0</td>\n",
       "      <td>0.0</td>\n",
       "      <td>0.0</td>\n",
       "      <td>0.0</td>\n",
       "      <td>0.0</td>\n",
       "      <td>0.0</td>\n",
       "      <td>1.0</td>\n",
       "    </tr>\n",
       "  </tbody>\n",
       "</table>\n",
       "</div>"
      ],
      "text/plain": [
       "   Gender  Married  Education  Self_Employed  ApplicantIncome  \\\n",
       "0     1.0      0.0        1.0            0.0         0.070489   \n",
       "1     1.0      1.0        1.0            0.0         0.054830   \n",
       "2     1.0      1.0        1.0            1.0         0.035250   \n",
       "3     1.0      1.0        0.0            0.0         0.030093   \n",
       "4     1.0      0.0        1.0            0.0         0.072356   \n",
       "\n",
       "   CoapplicantIncome  LoanAmount  Loan_Amount_Term  Credit_History  \\\n",
       "0           0.000000    0.159672           0.74359             1.0   \n",
       "1           0.036192    0.172214           0.74359             1.0   \n",
       "2           0.000000    0.082489           0.74359             1.0   \n",
       "3           0.056592    0.160637           0.74359             1.0   \n",
       "4           0.000000    0.191027           0.74359             1.0   \n",
       "\n",
       "   Loan_Status  Dependents_0  Dependents_1  Dependents_2  Dependents_3+  \\\n",
       "0          0.0           1.0           0.0           0.0            0.0   \n",
       "1          1.0           0.0           1.0           0.0            0.0   \n",
       "2          0.0           1.0           0.0           0.0            0.0   \n",
       "3          0.0           1.0           0.0           0.0            0.0   \n",
       "4          0.0           1.0           0.0           0.0            0.0   \n",
       "\n",
       "   Property_Area_Rural  Property_Area_Semiurban  Property_Area_Urban  \n",
       "0                  0.0                      0.0                  1.0  \n",
       "1                  1.0                      0.0                  0.0  \n",
       "2                  0.0                      0.0                  1.0  \n",
       "3                  0.0                      0.0                  1.0  \n",
       "4                  0.0                      0.0                  1.0  "
      ]
     },
     "execution_count": 11,
     "metadata": {},
     "output_type": "execute_result"
    }
   ],
   "source": [
    "#convert array back to dataframe\n",
    "data = pd.DataFrame(df)\n",
    "#bring data back in original form\n",
    "data.columns = ['Gender','Married','Education','Self_Employed','ApplicantIncome','CoapplicantIncome','LoanAmount',\n",
    "                'Loan_Amount_Term','Credit_History','Loan_Status','Dependents_0','Dependents_1','Dependents_2','Dependents_3+',\n",
    "                'Property_Area_Rural','Property_Area_Semiurban','Property_Area_Urban']\n",
    "data.head()"
   ]
  },
  {
   "cell_type": "code",
   "execution_count": 12,
   "metadata": {},
   "outputs": [
    {
     "data": {
      "text/html": [
       "<div>\n",
       "<style scoped>\n",
       "    .dataframe tbody tr th:only-of-type {\n",
       "        vertical-align: middle;\n",
       "    }\n",
       "\n",
       "    .dataframe tbody tr th {\n",
       "        vertical-align: top;\n",
       "    }\n",
       "\n",
       "    .dataframe thead th {\n",
       "        text-align: right;\n",
       "    }\n",
       "</style>\n",
       "<table border=\"1\" class=\"dataframe\">\n",
       "  <thead>\n",
       "    <tr style=\"text-align: right;\">\n",
       "      <th></th>\n",
       "      <th>Property_Area_Urban</th>\n",
       "      <th>Loan_Amount_Term</th>\n",
       "      <th>Married</th>\n",
       "      <th>Education</th>\n",
       "      <th>Self_Employed</th>\n",
       "      <th>ApplicantIncome</th>\n",
       "      <th>CoapplicantIncome</th>\n",
       "      <th>LoanAmount</th>\n",
       "      <th>Credit_History</th>\n",
       "      <th>Property_Area_Semiurban</th>\n",
       "      <th>Loan_Status</th>\n",
       "      <th>Dependents_0</th>\n",
       "      <th>Dependents_1</th>\n",
       "      <th>Dependents_2</th>\n",
       "      <th>Dependents_3+</th>\n",
       "      <th>Property_Area_Rural</th>\n",
       "      <th>Gender</th>\n",
       "    </tr>\n",
       "  </thead>\n",
       "  <tbody>\n",
       "    <tr>\n",
       "      <th>Total</th>\n",
       "      <td>0.0</td>\n",
       "      <td>0.0</td>\n",
       "      <td>0.0</td>\n",
       "      <td>0.0</td>\n",
       "      <td>0.0</td>\n",
       "      <td>0.0</td>\n",
       "      <td>0.0</td>\n",
       "      <td>0.0</td>\n",
       "      <td>0.0</td>\n",
       "      <td>0.0</td>\n",
       "      <td>0.0</td>\n",
       "      <td>0.0</td>\n",
       "      <td>0.0</td>\n",
       "      <td>0.0</td>\n",
       "      <td>0.0</td>\n",
       "      <td>0.0</td>\n",
       "      <td>0.0</td>\n",
       "    </tr>\n",
       "    <tr>\n",
       "      <th>Percent</th>\n",
       "      <td>0.0</td>\n",
       "      <td>0.0</td>\n",
       "      <td>0.0</td>\n",
       "      <td>0.0</td>\n",
       "      <td>0.0</td>\n",
       "      <td>0.0</td>\n",
       "      <td>0.0</td>\n",
       "      <td>0.0</td>\n",
       "      <td>0.0</td>\n",
       "      <td>0.0</td>\n",
       "      <td>0.0</td>\n",
       "      <td>0.0</td>\n",
       "      <td>0.0</td>\n",
       "      <td>0.0</td>\n",
       "      <td>0.0</td>\n",
       "      <td>0.0</td>\n",
       "      <td>0.0</td>\n",
       "    </tr>\n",
       "  </tbody>\n",
       "</table>\n",
       "</div>"
      ],
      "text/plain": [
       "         Property_Area_Urban  Loan_Amount_Term  Married  Education  \\\n",
       "Total                    0.0               0.0      0.0        0.0   \n",
       "Percent                  0.0               0.0      0.0        0.0   \n",
       "\n",
       "         Self_Employed  ApplicantIncome  CoapplicantIncome  LoanAmount  \\\n",
       "Total              0.0              0.0                0.0         0.0   \n",
       "Percent            0.0              0.0                0.0         0.0   \n",
       "\n",
       "         Credit_History  Property_Area_Semiurban  Loan_Status  Dependents_0  \\\n",
       "Total               0.0                      0.0          0.0           0.0   \n",
       "Percent             0.0                      0.0          0.0           0.0   \n",
       "\n",
       "         Dependents_1  Dependents_2  Dependents_3+  Property_Area_Rural  \\\n",
       "Total             0.0           0.0            0.0                  0.0   \n",
       "Percent           0.0           0.0            0.0                  0.0   \n",
       "\n",
       "         Gender  \n",
       "Total       0.0  \n",
       "Percent     0.0  "
      ]
     },
     "execution_count": 12,
     "metadata": {},
     "output_type": "execute_result"
    }
   ],
   "source": [
    "#check for missing values again\n",
    "total = data.isnull().sum().sort_values(ascending = False)\n",
    "percent = (data.isnull().sum()/data.isnull().count()*100).sort_values(ascending = False)\n",
    "pd.concat([total, percent], axis=1, keys=['Total', 'Percent']).transpose()"
   ]
  },
  {
   "cell_type": "code",
   "execution_count": 13,
   "metadata": {},
   "outputs": [
    {
     "name": "stdout",
     "output_type": "stream",
     "text": [
      "[[0.48155919 1.36975064 0.52836225 ... 0.64147818 0.7820157  1.42814704]\n",
      " [0.48155919 0.73281659 0.52836225 ... 1.55889948 0.7820157  0.70020801]\n",
      " [0.48155919 0.73281659 0.52836225 ... 0.64147818 0.7820157  1.42814704]\n",
      " ...\n",
      " [0.48155919 0.73281659 0.52836225 ... 0.64147818 0.7820157  1.42814704]\n",
      " [0.48155919 0.73281659 0.52836225 ... 0.64147818 0.7820157  1.42814704]\n",
      " [2.10907171 1.36975064 0.52836225 ... 0.64147818 1.2787467  0.70020801]]\n",
      "(array([  7,   9,  14,  34,  61,  68,  68,  73,  74,  78,  79,  94, 109,\n",
      "       126, 126, 130, 133, 135, 155, 155, 155, 171, 171, 171, 172, 177,\n",
      "       177, 177, 183, 185, 202, 211, 213, 215, 242, 255, 257, 259, 262,\n",
      "       267, 278, 295, 308, 313, 321, 324, 333, 333, 338, 340, 343, 352,\n",
      "       359, 369, 376, 390, 391, 402, 409, 409, 417, 432, 442, 443, 461,\n",
      "       466, 472, 481, 487, 495, 497, 506, 515, 522, 523, 525, 531, 539,\n",
      "       546, 557, 561, 567, 574, 575, 581, 585, 592, 600, 600, 602, 604,\n",
      "       610], dtype=int64), array([13,  5,  7, 13, 13,  7, 13, 13, 13, 13, 13,  7, 13,  4, 13,  6,  7,\n",
      "       13,  4,  6, 13,  4,  6, 13, 13,  5,  6, 13,  4,  4, 13, 13, 13, 13,\n",
      "        7, 13, 13, 13,  7, 13,  6, 13,  6,  7, 13, 13,  4,  6, 13, 13, 13,\n",
      "       13, 13,  6, 13, 13, 13,  5,  4, 13,  5,  6, 13,  4, 13, 13, 13, 13,\n",
      "        6,  7,  7,  6, 13, 13,  6,  6, 13, 13,  7, 13,  6, 13, 13,  7,  5,\n",
      "        7, 13,  5, 13, 13,  6, 13], dtype=int64))\n"
     ]
    }
   ],
   "source": [
    "#check outliers in dataset using Z-Score\n",
    "from scipy import stats\n",
    "z = np.abs(stats.zscore(data))\n",
    "print(z)                            \n",
    "threshold = 3\n",
    "print(np.where(z > 3))"
   ]
  },
  {
   "cell_type": "code",
   "execution_count": 14,
   "metadata": {},
   "outputs": [
    {
     "data": {
      "text/plain": [
       "(533, 17)"
      ]
     },
     "execution_count": 14,
     "metadata": {},
     "output_type": "execute_result"
    }
   ],
   "source": [
    "#remove outliers\n",
    "data = data[(z < 3).all(axis=1)]\n",
    "data.shape"
   ]
  },
  {
   "cell_type": "markdown",
   "metadata": {},
   "source": [
    "# Exploratory Data Analysis"
   ]
  },
  {
   "cell_type": "code",
   "execution_count": 15,
   "metadata": {},
   "outputs": [
    {
     "data": {
      "text/html": [
       "<div>\n",
       "<style scoped>\n",
       "    .dataframe tbody tr th:only-of-type {\n",
       "        vertical-align: middle;\n",
       "    }\n",
       "\n",
       "    .dataframe tbody tr th {\n",
       "        vertical-align: top;\n",
       "    }\n",
       "\n",
       "    .dataframe thead th {\n",
       "        text-align: right;\n",
       "    }\n",
       "</style>\n",
       "<table border=\"1\" class=\"dataframe\">\n",
       "  <thead>\n",
       "    <tr style=\"text-align: right;\">\n",
       "      <th></th>\n",
       "      <th>Gender</th>\n",
       "      <th>Married</th>\n",
       "      <th>Education</th>\n",
       "      <th>Self_Employed</th>\n",
       "      <th>ApplicantIncome</th>\n",
       "      <th>CoapplicantIncome</th>\n",
       "      <th>LoanAmount</th>\n",
       "      <th>Loan_Amount_Term</th>\n",
       "      <th>Credit_History</th>\n",
       "      <th>Loan_Status</th>\n",
       "      <th>Dependents_0</th>\n",
       "      <th>Dependents_1</th>\n",
       "      <th>Dependents_2</th>\n",
       "      <th>Dependents_3+</th>\n",
       "      <th>Property_Area_Rural</th>\n",
       "      <th>Property_Area_Semiurban</th>\n",
       "      <th>Property_Area_Urban</th>\n",
       "    </tr>\n",
       "  </thead>\n",
       "  <tbody>\n",
       "    <tr>\n",
       "      <th>count</th>\n",
       "      <td>533.000000</td>\n",
       "      <td>533.000000</td>\n",
       "      <td>533.000000</td>\n",
       "      <td>533.000000</td>\n",
       "      <td>533.000000</td>\n",
       "      <td>533.000000</td>\n",
       "      <td>533.000000</td>\n",
       "      <td>533.000000</td>\n",
       "      <td>533.000000</td>\n",
       "      <td>533.000000</td>\n",
       "      <td>533.000000</td>\n",
       "      <td>533.000000</td>\n",
       "      <td>533.000000</td>\n",
       "      <td>533.0</td>\n",
       "      <td>533.000000</td>\n",
       "      <td>533.000000</td>\n",
       "      <td>533.000000</td>\n",
       "    </tr>\n",
       "    <tr>\n",
       "      <th>mean</th>\n",
       "      <td>0.799500</td>\n",
       "      <td>0.630394</td>\n",
       "      <td>0.780488</td>\n",
       "      <td>0.132208</td>\n",
       "      <td>0.055329</td>\n",
       "      <td>0.034650</td>\n",
       "      <td>0.182060</td>\n",
       "      <td>0.719187</td>\n",
       "      <td>0.846404</td>\n",
       "      <td>0.307692</td>\n",
       "      <td>0.619137</td>\n",
       "      <td>0.174484</td>\n",
       "      <td>0.178236</td>\n",
       "      <td>0.0</td>\n",
       "      <td>0.290807</td>\n",
       "      <td>0.373358</td>\n",
       "      <td>0.335835</td>\n",
       "    </tr>\n",
       "    <tr>\n",
       "      <th>std</th>\n",
       "      <td>0.397906</td>\n",
       "      <td>0.482130</td>\n",
       "      <td>0.414305</td>\n",
       "      <td>0.331459</td>\n",
       "      <td>0.036816</td>\n",
       "      <td>0.039609</td>\n",
       "      <td>0.080011</td>\n",
       "      <td>0.107869</td>\n",
       "      <td>0.353320</td>\n",
       "      <td>0.461972</td>\n",
       "      <td>0.486055</td>\n",
       "      <td>0.379882</td>\n",
       "      <td>0.383071</td>\n",
       "      <td>0.0</td>\n",
       "      <td>0.454561</td>\n",
       "      <td>0.484150</td>\n",
       "      <td>0.472725</td>\n",
       "    </tr>\n",
       "    <tr>\n",
       "      <th>min</th>\n",
       "      <td>0.000000</td>\n",
       "      <td>0.000000</td>\n",
       "      <td>0.000000</td>\n",
       "      <td>0.000000</td>\n",
       "      <td>0.000000</td>\n",
       "      <td>0.000000</td>\n",
       "      <td>0.000000</td>\n",
       "      <td>0.358974</td>\n",
       "      <td>0.000000</td>\n",
       "      <td>0.000000</td>\n",
       "      <td>0.000000</td>\n",
       "      <td>0.000000</td>\n",
       "      <td>0.000000</td>\n",
       "      <td>0.0</td>\n",
       "      <td>0.000000</td>\n",
       "      <td>0.000000</td>\n",
       "      <td>0.000000</td>\n",
       "    </tr>\n",
       "    <tr>\n",
       "      <th>25%</th>\n",
       "      <td>1.000000</td>\n",
       "      <td>0.000000</td>\n",
       "      <td>1.000000</td>\n",
       "      <td>0.000000</td>\n",
       "      <td>0.032220</td>\n",
       "      <td>0.000000</td>\n",
       "      <td>0.131693</td>\n",
       "      <td>0.743590</td>\n",
       "      <td>1.000000</td>\n",
       "      <td>0.000000</td>\n",
       "      <td>0.000000</td>\n",
       "      <td>0.000000</td>\n",
       "      <td>0.000000</td>\n",
       "      <td>0.0</td>\n",
       "      <td>0.000000</td>\n",
       "      <td>0.000000</td>\n",
       "      <td>0.000000</td>\n",
       "    </tr>\n",
       "    <tr>\n",
       "      <th>50%</th>\n",
       "      <td>1.000000</td>\n",
       "      <td>1.000000</td>\n",
       "      <td>1.000000</td>\n",
       "      <td>0.000000</td>\n",
       "      <td>0.044119</td>\n",
       "      <td>0.031248</td>\n",
       "      <td>0.169320</td>\n",
       "      <td>0.743590</td>\n",
       "      <td>1.000000</td>\n",
       "      <td>0.000000</td>\n",
       "      <td>1.000000</td>\n",
       "      <td>0.000000</td>\n",
       "      <td>0.000000</td>\n",
       "      <td>0.0</td>\n",
       "      <td>0.000000</td>\n",
       "      <td>0.000000</td>\n",
       "      <td>0.000000</td>\n",
       "    </tr>\n",
       "    <tr>\n",
       "      <th>75%</th>\n",
       "      <td>1.000000</td>\n",
       "      <td>1.000000</td>\n",
       "      <td>1.000000</td>\n",
       "      <td>0.000000</td>\n",
       "      <td>0.066172</td>\n",
       "      <td>0.054792</td>\n",
       "      <td>0.218524</td>\n",
       "      <td>0.743590</td>\n",
       "      <td>1.000000</td>\n",
       "      <td>1.000000</td>\n",
       "      <td>1.000000</td>\n",
       "      <td>0.000000</td>\n",
       "      <td>0.000000</td>\n",
       "      <td>0.0</td>\n",
       "      <td>1.000000</td>\n",
       "      <td>1.000000</td>\n",
       "      <td>1.000000</td>\n",
       "    </tr>\n",
       "    <tr>\n",
       "      <th>max</th>\n",
       "      <td>1.000000</td>\n",
       "      <td>1.000000</td>\n",
       "      <td>1.000000</td>\n",
       "      <td>1.000000</td>\n",
       "      <td>0.253766</td>\n",
       "      <td>0.215518</td>\n",
       "      <td>0.536903</td>\n",
       "      <td>1.000000</td>\n",
       "      <td>1.000000</td>\n",
       "      <td>1.000000</td>\n",
       "      <td>1.000000</td>\n",
       "      <td>1.000000</td>\n",
       "      <td>1.000000</td>\n",
       "      <td>0.0</td>\n",
       "      <td>1.000000</td>\n",
       "      <td>1.000000</td>\n",
       "      <td>1.000000</td>\n",
       "    </tr>\n",
       "  </tbody>\n",
       "</table>\n",
       "</div>"
      ],
      "text/plain": [
       "           Gender     Married   Education  Self_Employed  ApplicantIncome  \\\n",
       "count  533.000000  533.000000  533.000000     533.000000       533.000000   \n",
       "mean     0.799500    0.630394    0.780488       0.132208         0.055329   \n",
       "std      0.397906    0.482130    0.414305       0.331459         0.036816   \n",
       "min      0.000000    0.000000    0.000000       0.000000         0.000000   \n",
       "25%      1.000000    0.000000    1.000000       0.000000         0.032220   \n",
       "50%      1.000000    1.000000    1.000000       0.000000         0.044119   \n",
       "75%      1.000000    1.000000    1.000000       0.000000         0.066172   \n",
       "max      1.000000    1.000000    1.000000       1.000000         0.253766   \n",
       "\n",
       "       CoapplicantIncome  LoanAmount  Loan_Amount_Term  Credit_History  \\\n",
       "count         533.000000  533.000000        533.000000      533.000000   \n",
       "mean            0.034650    0.182060          0.719187        0.846404   \n",
       "std             0.039609    0.080011          0.107869        0.353320   \n",
       "min             0.000000    0.000000          0.358974        0.000000   \n",
       "25%             0.000000    0.131693          0.743590        1.000000   \n",
       "50%             0.031248    0.169320          0.743590        1.000000   \n",
       "75%             0.054792    0.218524          0.743590        1.000000   \n",
       "max             0.215518    0.536903          1.000000        1.000000   \n",
       "\n",
       "       Loan_Status  Dependents_0  Dependents_1  Dependents_2  Dependents_3+  \\\n",
       "count   533.000000    533.000000    533.000000    533.000000          533.0   \n",
       "mean      0.307692      0.619137      0.174484      0.178236            0.0   \n",
       "std       0.461972      0.486055      0.379882      0.383071            0.0   \n",
       "min       0.000000      0.000000      0.000000      0.000000            0.0   \n",
       "25%       0.000000      0.000000      0.000000      0.000000            0.0   \n",
       "50%       0.000000      1.000000      0.000000      0.000000            0.0   \n",
       "75%       1.000000      1.000000      0.000000      0.000000            0.0   \n",
       "max       1.000000      1.000000      1.000000      1.000000            0.0   \n",
       "\n",
       "       Property_Area_Rural  Property_Area_Semiurban  Property_Area_Urban  \n",
       "count           533.000000               533.000000           533.000000  \n",
       "mean              0.290807                 0.373358             0.335835  \n",
       "std               0.454561                 0.484150             0.472725  \n",
       "min               0.000000                 0.000000             0.000000  \n",
       "25%               0.000000                 0.000000             0.000000  \n",
       "50%               0.000000                 0.000000             0.000000  \n",
       "75%               1.000000                 1.000000             1.000000  \n",
       "max               1.000000                 1.000000             1.000000  "
      ]
     },
     "execution_count": 15,
     "metadata": {},
     "output_type": "execute_result"
    }
   ],
   "source": [
    "data.describe()"
   ]
  },
  {
   "cell_type": "code",
   "execution_count": 16,
   "metadata": {},
   "outputs": [
    {
     "data": {
      "image/png": "[encoded data removed]",
      "text/plain": [
       "<Figure size 432x432 with 1 Axes>"
      ]
     },
     "metadata": {
      "needs_background": "light"
     },
     "output_type": "display_data"
    }
   ],
   "source": [
    "temp = data[\"Loan_Status\"].value_counts()\n",
    "df = pd.DataFrame({'Loan_Status': temp.index,'values': temp.values})\n",
    "plt.figure(figsize = (6,6))\n",
    "plt.title('Default Clients - target value - data unbalance\\n (Not Default = 0, Default = 1)')\n",
    "sns.set_color_codes(\"pastel\")\n",
    "sns.barplot(x = 'Loan_Status', y=\"values\", data=df)\n",
    "locs, labels = plt.xticks()\n",
    "plt.show()"
   ]
  },
  {
   "cell_type": "markdown",
   "metadata": {},
   "source": [
    "Data is imbalanced."
   ]
  },
  {
   "cell_type": "code",
   "execution_count": 17,
   "metadata": {},
   "outputs": [],
   "source": [
    "numerical = ['ApplicantIncome','CoapplicantIncome','LoanAmount','Loan_Amount_Term']\n",
    "categorical = ['Credit_History','Gender','Married','Education','Self_Employed','Dependents_0','Dependents_1','Dependents_2',\n",
    "               'Dependents_3+','Property_Area_Rural','Property_Area_Semiurban','Property_Area_Urban']"
   ]
  },
  {
   "cell_type": "code",
   "execution_count": 18,
   "metadata": {},
   "outputs": [
    {
     "data": {
      "image/png": "[encoded data removed]",
      "text/plain": [
       "<Figure size 504x504 with 1 Axes>"
      ]
     },
     "metadata": {
      "needs_background": "light"
     },
     "output_type": "display_data"
    }
   ],
   "source": [
    "#T Test for numerical columns\n",
    "p=[]\n",
    "from scipy.stats import ttest_ind\n",
    "\n",
    "for i in numerical:\n",
    "    df1=data.groupby('Loan_Status').get_group(0)\n",
    "    df2=data.groupby('Loan_Status').get_group(1)\n",
    "    t,pvalue=ttest_ind(df1[i],df2[i])\n",
    "    p.append(1-pvalue)\n",
    "plt.figure(figsize=(7,7))\n",
    "sns.barplot(x=p, y=numerical)\n",
    "plt.title('Best Numerical Features')\n",
    "plt.axvline(x=(1-0.05),color='r')\n",
    "plt.xlabel('1-p value')\n",
    "plt.show()"
   ]
  },
  {
   "cell_type": "markdown",
   "metadata": {},
   "source": [
    "'CoappliantIncome' has the greatest importance. None of them show statistical significance though."
   ]
  },
  {
   "cell_type": "code",
   "execution_count": 19,
   "metadata": {},
   "outputs": [
    {
     "data": {
      "image/png": "[encoded data removed]",
      "text/plain": [
       "<Figure size 504x504 with 1 Axes>"
      ]
     },
     "metadata": {
      "needs_background": "light"
     },
     "output_type": "display_data"
    }
   ],
   "source": [
    "#Chi Square test for Categorical Columns\n",
    "from scipy.stats import chi2_contingency\n",
    "l=[]\n",
    "for i in categorical:\n",
    "    pvalue  = chi2_contingency(pd.crosstab(data['Loan_Status'],data[i]))[1]\n",
    "    l.append(1-pvalue)\n",
    "plt.figure(figsize=(7,7))\n",
    "sns.barplot(x=l, y=categorical)\n",
    "plt.title('Best Categorical Features')\n",
    "plt.axvline(x=(1-0.05),color='r')\n",
    "plt.show()"
   ]
  },
  {
   "cell_type": "markdown",
   "metadata": {},
   "source": [
    "'Credit_History', 'Property_Area_Rural' and 'Property_Area_Semiurban' show statistical significance. 'Dependents_3+' has very low significance, so drop it."
   ]
  },
  {
   "cell_type": "code",
   "execution_count": 20,
   "metadata": {},
   "outputs": [],
   "source": [
    "data =  data.drop(columns = ['Dependents_3+'])"
   ]
  },
  {
   "cell_type": "code",
   "execution_count": 21,
   "metadata": {},
   "outputs": [],
   "source": [
    "#drop target variable: 'Default'\n",
    "features =  data.drop(columns = ['Loan_Status'])"
   ]
  },
  {
   "cell_type": "code",
   "execution_count": 22,
   "metadata": {},
   "outputs": [
    {
     "data": {
      "text/html": [
       "<div>\n",
       "<style scoped>\n",
       "    .dataframe tbody tr th:only-of-type {\n",
       "        vertical-align: middle;\n",
       "    }\n",
       "\n",
       "    .dataframe tbody tr th {\n",
       "        vertical-align: top;\n",
       "    }\n",
       "\n",
       "    .dataframe thead th {\n",
       "        text-align: right;\n",
       "    }\n",
       "</style>\n",
       "<table border=\"1\" class=\"dataframe\">\n",
       "  <thead>\n",
       "    <tr style=\"text-align: right;\">\n",
       "      <th></th>\n",
       "      <th>Gender</th>\n",
       "      <th>Married</th>\n",
       "      <th>Education</th>\n",
       "      <th>Self_Employed</th>\n",
       "      <th>ApplicantIncome</th>\n",
       "      <th>CoapplicantIncome</th>\n",
       "      <th>LoanAmount</th>\n",
       "      <th>Loan_Amount_Term</th>\n",
       "      <th>Credit_History</th>\n",
       "      <th>Dependents_0</th>\n",
       "      <th>Dependents_1</th>\n",
       "      <th>Dependents_2</th>\n",
       "      <th>Property_Area_Rural</th>\n",
       "      <th>Property_Area_Semiurban</th>\n",
       "      <th>Property_Area_Urban</th>\n",
       "    </tr>\n",
       "  </thead>\n",
       "  <tbody>\n",
       "    <tr>\n",
       "      <th>Gender</th>\n",
       "      <td>1.000000</td>\n",
       "      <td>0.371364</td>\n",
       "      <td>0.050837</td>\n",
       "      <td>0.015270</td>\n",
       "      <td>0.012556</td>\n",
       "      <td>0.202383</td>\n",
       "      <td>0.171739</td>\n",
       "      <td>0.106348</td>\n",
       "      <td>0.008722</td>\n",
       "      <td>0.151308</td>\n",
       "      <td>0.044517</td>\n",
       "      <td>0.147746</td>\n",
       "      <td>0.082559</td>\n",
       "      <td>0.121970</td>\n",
       "      <td>0.045531</td>\n",
       "    </tr>\n",
       "    <tr>\n",
       "      <th>Married</th>\n",
       "      <td>0.371364</td>\n",
       "      <td>1.000000</td>\n",
       "      <td>0.021116</td>\n",
       "      <td>0.019860</td>\n",
       "      <td>0.007458</td>\n",
       "      <td>0.259718</td>\n",
       "      <td>0.205034</td>\n",
       "      <td>0.120622</td>\n",
       "      <td>0.025103</td>\n",
       "      <td>0.329109</td>\n",
       "      <td>0.137251</td>\n",
       "      <td>0.275940</td>\n",
       "      <td>0.014676</td>\n",
       "      <td>0.007126</td>\n",
       "      <td>0.006813</td>\n",
       "    </tr>\n",
       "    <tr>\n",
       "      <th>Education</th>\n",
       "      <td>0.050837</td>\n",
       "      <td>0.021116</td>\n",
       "      <td>1.000000</td>\n",
       "      <td>0.010973</td>\n",
       "      <td>0.151525</td>\n",
       "      <td>0.019276</td>\n",
       "      <td>0.135597</td>\n",
       "      <td>0.090932</td>\n",
       "      <td>0.075710</td>\n",
       "      <td>0.041435</td>\n",
       "      <td>0.006991</td>\n",
       "      <td>0.037264</td>\n",
       "      <td>0.099567</td>\n",
       "      <td>0.062626</td>\n",
       "      <td>0.031602</td>\n",
       "    </tr>\n",
       "    <tr>\n",
       "      <th>Self_Employed</th>\n",
       "      <td>0.015270</td>\n",
       "      <td>0.019860</td>\n",
       "      <td>0.010973</td>\n",
       "      <td>1.000000</td>\n",
       "      <td>0.251736</td>\n",
       "      <td>0.040629</td>\n",
       "      <td>0.123804</td>\n",
       "      <td>0.052935</td>\n",
       "      <td>0.030584</td>\n",
       "      <td>0.095227</td>\n",
       "      <td>0.117008</td>\n",
       "      <td>0.004544</td>\n",
       "      <td>0.019643</td>\n",
       "      <td>0.001280</td>\n",
       "      <td>0.017577</td>\n",
       "    </tr>\n",
       "    <tr>\n",
       "      <th>ApplicantIncome</th>\n",
       "      <td>0.012556</td>\n",
       "      <td>0.007458</td>\n",
       "      <td>0.151525</td>\n",
       "      <td>0.251736</td>\n",
       "      <td>1.000000</td>\n",
       "      <td>0.228698</td>\n",
       "      <td>0.441993</td>\n",
       "      <td>0.056216</td>\n",
       "      <td>0.015630</td>\n",
       "      <td>0.081156</td>\n",
       "      <td>0.054636</td>\n",
       "      <td>0.034840</td>\n",
       "      <td>0.001924</td>\n",
       "      <td>0.026774</td>\n",
       "      <td>0.029272</td>\n",
       "    </tr>\n",
       "    <tr>\n",
       "      <th>CoapplicantIncome</th>\n",
       "      <td>0.202383</td>\n",
       "      <td>0.259718</td>\n",
       "      <td>0.019276</td>\n",
       "      <td>0.040629</td>\n",
       "      <td>0.228698</td>\n",
       "      <td>1.000000</td>\n",
       "      <td>0.314743</td>\n",
       "      <td>0.089052</td>\n",
       "      <td>0.003216</td>\n",
       "      <td>0.010898</td>\n",
       "      <td>0.011022</td>\n",
       "      <td>0.013498</td>\n",
       "      <td>0.090991</td>\n",
       "      <td>0.017835</td>\n",
       "      <td>0.069229</td>\n",
       "    </tr>\n",
       "    <tr>\n",
       "      <th>LoanAmount</th>\n",
       "      <td>0.171739</td>\n",
       "      <td>0.205034</td>\n",
       "      <td>0.135597</td>\n",
       "      <td>0.123804</td>\n",
       "      <td>0.441993</td>\n",
       "      <td>0.314743</td>\n",
       "      <td>1.000000</td>\n",
       "      <td>0.022247</td>\n",
       "      <td>0.012941</td>\n",
       "      <td>0.128236</td>\n",
       "      <td>0.076126</td>\n",
       "      <td>0.090088</td>\n",
       "      <td>0.061388</td>\n",
       "      <td>0.008507</td>\n",
       "      <td>0.050316</td>\n",
       "    </tr>\n",
       "    <tr>\n",
       "      <th>Loan_Amount_Term</th>\n",
       "      <td>0.106348</td>\n",
       "      <td>0.120622</td>\n",
       "      <td>0.090932</td>\n",
       "      <td>0.052935</td>\n",
       "      <td>0.056216</td>\n",
       "      <td>0.089052</td>\n",
       "      <td>0.022247</td>\n",
       "      <td>1.000000</td>\n",
       "      <td>0.022029</td>\n",
       "      <td>0.088680</td>\n",
       "      <td>0.117020</td>\n",
       "      <td>0.005350</td>\n",
       "      <td>0.022133</td>\n",
       "      <td>0.062503</td>\n",
       "      <td>0.085296</td>\n",
       "    </tr>\n",
       "    <tr>\n",
       "      <th>Credit_History</th>\n",
       "      <td>0.008722</td>\n",
       "      <td>0.025103</td>\n",
       "      <td>0.075710</td>\n",
       "      <td>0.030584</td>\n",
       "      <td>0.015630</td>\n",
       "      <td>0.003216</td>\n",
       "      <td>0.012941</td>\n",
       "      <td>0.022029</td>\n",
       "      <td>1.000000</td>\n",
       "      <td>0.042542</td>\n",
       "      <td>0.023092</td>\n",
       "      <td>0.006365</td>\n",
       "      <td>0.045168</td>\n",
       "      <td>0.061890</td>\n",
       "      <td>0.019953</td>\n",
       "    </tr>\n",
       "    <tr>\n",
       "      <th>Dependents_0</th>\n",
       "      <td>0.151308</td>\n",
       "      <td>0.329109</td>\n",
       "      <td>0.041435</td>\n",
       "      <td>0.095227</td>\n",
       "      <td>0.081156</td>\n",
       "      <td>0.010898</td>\n",
       "      <td>0.128236</td>\n",
       "      <td>0.088680</td>\n",
       "      <td>0.042542</td>\n",
       "      <td>1.000000</td>\n",
       "      <td>0.586171</td>\n",
       "      <td>0.593791</td>\n",
       "      <td>0.093872</td>\n",
       "      <td>0.001663</td>\n",
       "      <td>0.088561</td>\n",
       "    </tr>\n",
       "    <tr>\n",
       "      <th>Dependents_1</th>\n",
       "      <td>0.044517</td>\n",
       "      <td>0.137251</td>\n",
       "      <td>0.006991</td>\n",
       "      <td>0.117008</td>\n",
       "      <td>0.054636</td>\n",
       "      <td>0.011022</td>\n",
       "      <td>0.076126</td>\n",
       "      <td>0.117020</td>\n",
       "      <td>0.023092</td>\n",
       "      <td>0.586171</td>\n",
       "      <td>1.000000</td>\n",
       "      <td>0.214111</td>\n",
       "      <td>0.076689</td>\n",
       "      <td>0.017603</td>\n",
       "      <td>0.091770</td>\n",
       "    </tr>\n",
       "    <tr>\n",
       "      <th>Dependents_2</th>\n",
       "      <td>0.147746</td>\n",
       "      <td>0.275940</td>\n",
       "      <td>0.037264</td>\n",
       "      <td>0.004544</td>\n",
       "      <td>0.034840</td>\n",
       "      <td>0.013498</td>\n",
       "      <td>0.090088</td>\n",
       "      <td>0.005350</td>\n",
       "      <td>0.006365</td>\n",
       "      <td>0.593791</td>\n",
       "      <td>0.214111</td>\n",
       "      <td>1.000000</td>\n",
       "      <td>0.017559</td>\n",
       "      <td>0.015516</td>\n",
       "      <td>0.000993</td>\n",
       "    </tr>\n",
       "    <tr>\n",
       "      <th>Property_Area_Rural</th>\n",
       "      <td>0.082559</td>\n",
       "      <td>0.014676</td>\n",
       "      <td>0.099567</td>\n",
       "      <td>0.019643</td>\n",
       "      <td>0.001924</td>\n",
       "      <td>0.090991</td>\n",
       "      <td>0.061388</td>\n",
       "      <td>0.022133</td>\n",
       "      <td>0.045168</td>\n",
       "      <td>0.093872</td>\n",
       "      <td>0.076689</td>\n",
       "      <td>0.017559</td>\n",
       "      <td>1.000000</td>\n",
       "      <td>0.494280</td>\n",
       "      <td>0.455349</td>\n",
       "    </tr>\n",
       "    <tr>\n",
       "      <th>Property_Area_Semiurban</th>\n",
       "      <td>0.121970</td>\n",
       "      <td>0.007126</td>\n",
       "      <td>0.062626</td>\n",
       "      <td>0.001280</td>\n",
       "      <td>0.026774</td>\n",
       "      <td>0.017835</td>\n",
       "      <td>0.008507</td>\n",
       "      <td>0.062503</td>\n",
       "      <td>0.061890</td>\n",
       "      <td>0.001663</td>\n",
       "      <td>0.017603</td>\n",
       "      <td>0.015516</td>\n",
       "      <td>0.494280</td>\n",
       "      <td>1.000000</td>\n",
       "      <td>0.548881</td>\n",
       "    </tr>\n",
       "    <tr>\n",
       "      <th>Property_Area_Urban</th>\n",
       "      <td>0.045531</td>\n",
       "      <td>0.006813</td>\n",
       "      <td>0.031602</td>\n",
       "      <td>0.017577</td>\n",
       "      <td>0.029272</td>\n",
       "      <td>0.069229</td>\n",
       "      <td>0.050316</td>\n",
       "      <td>0.085296</td>\n",
       "      <td>0.019953</td>\n",
       "      <td>0.088561</td>\n",
       "      <td>0.091770</td>\n",
       "      <td>0.000993</td>\n",
       "      <td>0.455349</td>\n",
       "      <td>0.548881</td>\n",
       "      <td>1.000000</td>\n",
       "    </tr>\n",
       "  </tbody>\n",
       "</table>\n",
       "</div>"
      ],
      "text/plain": [
       "                           Gender   Married  Education  Self_Employed  \\\n",
       "Gender                   1.000000  0.371364   0.050837       0.015270   \n",
       "Married                  0.371364  1.000000   0.021116       0.019860   \n",
       "Education                0.050837  0.021116   1.000000       0.010973   \n",
       "Self_Employed            0.015270  0.019860   0.010973       1.000000   \n",
       "ApplicantIncome          0.012556  0.007458   0.151525       0.251736   \n",
       "CoapplicantIncome        0.202383  0.259718   0.019276       0.040629   \n",
       "LoanAmount               0.171739  0.205034   0.135597       0.123804   \n",
       "Loan_Amount_Term         0.106348  0.120622   0.090932       0.052935   \n",
       "Credit_History           0.008722  0.025103   0.075710       0.030584   \n",
       "Dependents_0             0.151308  0.329109   0.041435       0.095227   \n",
       "Dependents_1             0.044517  0.137251   0.006991       0.117008   \n",
       "Dependents_2             0.147746  0.275940   0.037264       0.004544   \n",
       "Property_Area_Rural      0.082559  0.014676   0.099567       0.019643   \n",
       "Property_Area_Semiurban  0.121970  0.007126   0.062626       0.001280   \n",
       "Property_Area_Urban      0.045531  0.006813   0.031602       0.017577   \n",
       "\n",
       "                         ApplicantIncome  CoapplicantIncome  LoanAmount  \\\n",
       "Gender                          0.012556           0.202383    0.171739   \n",
       "Married                         0.007458           0.259718    0.205034   \n",
       "Education                       0.151525           0.019276    0.135597   \n",
       "Self_Employed                   0.251736           0.040629    0.123804   \n",
       "ApplicantIncome                 1.000000           0.228698    0.441993   \n",
       "CoapplicantIncome               0.228698           1.000000    0.314743   \n",
       "LoanAmount                      0.441993           0.314743    1.000000   \n",
       "Loan_Amount_Term                0.056216           0.089052    0.022247   \n",
       "Credit_History                  0.015630           0.003216    0.012941   \n",
       "Dependents_0                    0.081156           0.010898    0.128236   \n",
       "Dependents_1                    0.054636           0.011022    0.076126   \n",
       "Dependents_2                    0.034840           0.013498    0.090088   \n",
       "Property_Area_Rural             0.001924           0.090991    0.061388   \n",
       "Property_Area_Semiurban         0.026774           0.017835    0.008507   \n",
       "Property_Area_Urban             0.029272           0.069229    0.050316   \n",
       "\n",
       "                         Loan_Amount_Term  Credit_History  Dependents_0  \\\n",
       "Gender                           0.106348        0.008722      0.151308   \n",
       "Married                          0.120622        0.025103      0.329109   \n",
       "Education                        0.090932        0.075710      0.041435   \n",
       "Self_Employed                    0.052935        0.030584      0.095227   \n",
       "ApplicantIncome                  0.056216        0.015630      0.081156   \n",
       "CoapplicantIncome                0.089052        0.003216      0.010898   \n",
       "LoanAmount                       0.022247        0.012941      0.128236   \n",
       "Loan_Amount_Term                 1.000000        0.022029      0.088680   \n",
       "Credit_History                   0.022029        1.000000      0.042542   \n",
       "Dependents_0                     0.088680        0.042542      1.000000   \n",
       "Dependents_1                     0.117020        0.023092      0.586171   \n",
       "Dependents_2                     0.005350        0.006365      0.593791   \n",
       "Property_Area_Rural              0.022133        0.045168      0.093872   \n",
       "Property_Area_Semiurban          0.062503        0.061890      0.001663   \n",
       "Property_Area_Urban              0.085296        0.019953      0.088561   \n",
       "\n",
       "                         Dependents_1  Dependents_2  Property_Area_Rural  \\\n",
       "Gender                       0.044517      0.147746             0.082559   \n",
       "Married                      0.137251      0.275940             0.014676   \n",
       "Education                    0.006991      0.037264             0.099567   \n",
       "Self_Employed                0.117008      0.004544             0.019643   \n",
       "ApplicantIncome              0.054636      0.034840             0.001924   \n",
       "CoapplicantIncome            0.011022      0.013498             0.090991   \n",
       "LoanAmount                   0.076126      0.090088             0.061388   \n",
       "Loan_Amount_Term             0.117020      0.005350             0.022133   \n",
       "Credit_History               0.023092      0.006365             0.045168   \n",
       "Dependents_0                 0.586171      0.593791             0.093872   \n",
       "Dependents_1                 1.000000      0.214111             0.076689   \n",
       "Dependents_2                 0.214111      1.000000             0.017559   \n",
       "Property_Area_Rural          0.076689      0.017559             1.000000   \n",
       "Property_Area_Semiurban      0.017603      0.015516             0.494280   \n",
       "Property_Area_Urban          0.091770      0.000993             0.455349   \n",
       "\n",
       "                         Property_Area_Semiurban  Property_Area_Urban  \n",
       "Gender                                  0.121970             0.045531  \n",
       "Married                                 0.007126             0.006813  \n",
       "Education                               0.062626             0.031602  \n",
       "Self_Employed                           0.001280             0.017577  \n",
       "ApplicantIncome                         0.026774             0.029272  \n",
       "CoapplicantIncome                       0.017835             0.069229  \n",
       "LoanAmount                              0.008507             0.050316  \n",
       "Loan_Amount_Term                        0.062503             0.085296  \n",
       "Credit_History                          0.061890             0.019953  \n",
       "Dependents_0                            0.001663             0.088561  \n",
       "Dependents_1                            0.017603             0.091770  \n",
       "Dependents_2                            0.015516             0.000993  \n",
       "Property_Area_Rural                     0.494280             0.455349  \n",
       "Property_Area_Semiurban                 1.000000             0.548881  \n",
       "Property_Area_Urban                     0.548881             1.000000  "
      ]
     },
     "execution_count": 22,
     "metadata": {},
     "output_type": "execute_result"
    }
   ],
   "source": [
    "#correlation analysis\n",
    "corr_matrix = features.corr().abs()\n",
    "corr_matrix"
   ]
  },
  {
   "cell_type": "code",
   "execution_count": 23,
   "metadata": {},
   "outputs": [
    {
     "data": {
      "text/plain": [
       "(533, 16)"
      ]
     },
     "execution_count": 23,
     "metadata": {},
     "output_type": "execute_result"
    }
   ],
   "source": [
    "#Feature Selection \n",
    "\n",
    "#Select upper triangle of correlation matrix\n",
    "upper = corr_matrix.where(np.triu(np.ones(corr_matrix.shape), k=1).astype(np.bool))\n",
    "to_drop = [column for column in upper.columns if any(upper[column] > 0.95)]\n",
    "#Drop highly correlated attributes\n",
    "data = data.drop(data[to_drop], axis=1)\n",
    "data.shape"
   ]
  },
  {
   "cell_type": "markdown",
   "metadata": {},
   "source": [
    "No highly correlated attributes found."
   ]
  },
  {
   "cell_type": "code",
   "execution_count": 24,
   "metadata": {},
   "outputs": [
    {
     "data": {
      "text/html": [
       "<div>\n",
       "<style scoped>\n",
       "    .dataframe tbody tr th:only-of-type {\n",
       "        vertical-align: middle;\n",
       "    }\n",
       "\n",
       "    .dataframe tbody tr th {\n",
       "        vertical-align: top;\n",
       "    }\n",
       "\n",
       "    .dataframe thead th {\n",
       "        text-align: right;\n",
       "    }\n",
       "</style>\n",
       "<table border=\"1\" class=\"dataframe\">\n",
       "  <thead>\n",
       "    <tr style=\"text-align: right;\">\n",
       "      <th>Loan_Status</th>\n",
       "      <th>0.0</th>\n",
       "      <th>1.0</th>\n",
       "    </tr>\n",
       "    <tr>\n",
       "      <th>Married</th>\n",
       "      <th></th>\n",
       "      <th></th>\n",
       "    </tr>\n",
       "  </thead>\n",
       "  <tbody>\n",
       "    <tr>\n",
       "      <th>0.000000</th>\n",
       "      <td>124</td>\n",
       "      <td>72</td>\n",
       "    </tr>\n",
       "    <tr>\n",
       "      <th>0.400000</th>\n",
       "      <td>1</td>\n",
       "      <td>0</td>\n",
       "    </tr>\n",
       "    <tr>\n",
       "      <th>0.666667</th>\n",
       "      <td>1</td>\n",
       "      <td>0</td>\n",
       "    </tr>\n",
       "    <tr>\n",
       "      <th>0.933333</th>\n",
       "      <td>1</td>\n",
       "      <td>0</td>\n",
       "    </tr>\n",
       "    <tr>\n",
       "      <th>1.000000</th>\n",
       "      <td>242</td>\n",
       "      <td>92</td>\n",
       "    </tr>\n",
       "  </tbody>\n",
       "</table>\n",
       "</div>"
      ],
      "text/plain": [
       "Loan_Status  0.0  1.0\n",
       "Married              \n",
       "0.000000     124   72\n",
       "0.400000       1    0\n",
       "0.666667       1    0\n",
       "0.933333       1    0\n",
       "1.000000     242   92"
      ]
     },
     "execution_count": 24,
     "metadata": {},
     "output_type": "execute_result"
    }
   ],
   "source": [
    "pd.crosstab(data.Married, data.Loan_Status)"
   ]
  },
  {
   "cell_type": "markdown",
   "metadata": {},
   "source": [
    "Those not married have a higher percentage on defaulting."
   ]
  },
  {
   "cell_type": "code",
   "execution_count": 25,
   "metadata": {},
   "outputs": [
    {
     "data": {
      "text/html": [
       "<div>\n",
       "<style scoped>\n",
       "    .dataframe tbody tr th:only-of-type {\n",
       "        vertical-align: middle;\n",
       "    }\n",
       "\n",
       "    .dataframe tbody tr th {\n",
       "        vertical-align: top;\n",
       "    }\n",
       "\n",
       "    .dataframe thead th {\n",
       "        text-align: right;\n",
       "    }\n",
       "</style>\n",
       "<table border=\"1\" class=\"dataframe\">\n",
       "  <thead>\n",
       "    <tr style=\"text-align: right;\">\n",
       "      <th>Loan_Status</th>\n",
       "      <th>0.0</th>\n",
       "      <th>1.0</th>\n",
       "    </tr>\n",
       "    <tr>\n",
       "      <th>Education</th>\n",
       "      <th></th>\n",
       "      <th></th>\n",
       "    </tr>\n",
       "  </thead>\n",
       "  <tbody>\n",
       "    <tr>\n",
       "      <th>0.0</th>\n",
       "      <td>73</td>\n",
       "      <td>44</td>\n",
       "    </tr>\n",
       "    <tr>\n",
       "      <th>1.0</th>\n",
       "      <td>296</td>\n",
       "      <td>120</td>\n",
       "    </tr>\n",
       "  </tbody>\n",
       "</table>\n",
       "</div>"
      ],
      "text/plain": [
       "Loan_Status  0.0  1.0\n",
       "Education            \n",
       "0.0           73   44\n",
       "1.0          296  120"
      ]
     },
     "execution_count": 25,
     "metadata": {},
     "output_type": "execute_result"
    }
   ],
   "source": [
    "pd.crosstab(data.Education, data.Loan_Status)"
   ]
  },
  {
   "cell_type": "markdown",
   "metadata": {},
   "source": [
    "Graduates are more in number and thus are more in number for both default and not defaut. Not Graduates have a higher percentage of defaulting which makes sense. "
   ]
  },
  {
   "cell_type": "code",
   "execution_count": 26,
   "metadata": {},
   "outputs": [
    {
     "data": {
      "text/html": [
       "<div>\n",
       "<style scoped>\n",
       "    .dataframe tbody tr th:only-of-type {\n",
       "        vertical-align: middle;\n",
       "    }\n",
       "\n",
       "    .dataframe tbody tr th {\n",
       "        vertical-align: top;\n",
       "    }\n",
       "\n",
       "    .dataframe thead th {\n",
       "        text-align: right;\n",
       "    }\n",
       "</style>\n",
       "<table border=\"1\" class=\"dataframe\">\n",
       "  <thead>\n",
       "    <tr style=\"text-align: right;\">\n",
       "      <th>Loan_Status</th>\n",
       "      <th>0.0</th>\n",
       "      <th>1.0</th>\n",
       "    </tr>\n",
       "    <tr>\n",
       "      <th>Dependents_0</th>\n",
       "      <th></th>\n",
       "      <th></th>\n",
       "    </tr>\n",
       "  </thead>\n",
       "  <tbody>\n",
       "    <tr>\n",
       "      <th>0.0</th>\n",
       "      <td>142</td>\n",
       "      <td>61</td>\n",
       "    </tr>\n",
       "    <tr>\n",
       "      <th>1.0</th>\n",
       "      <td>227</td>\n",
       "      <td>103</td>\n",
       "    </tr>\n",
       "  </tbody>\n",
       "</table>\n",
       "</div>"
      ],
      "text/plain": [
       "Loan_Status   0.0  1.0\n",
       "Dependents_0          \n",
       "0.0           142   61\n",
       "1.0           227  103"
      ]
     },
     "execution_count": 26,
     "metadata": {},
     "output_type": "execute_result"
    }
   ],
   "source": [
    "pd.crosstab(data.Dependents_0, data.Loan_Status)"
   ]
  },
  {
   "cell_type": "markdown",
   "metadata": {},
   "source": [
    "Percentage of default for those with no dependents and those with dependents is almost the same."
   ]
  },
  {
   "cell_type": "code",
   "execution_count": 27,
   "metadata": {},
   "outputs": [
    {
     "data": {
      "image/png": "[encoded data removed]",
      "text/plain": [
       "<Figure size 1008x432 with 1 Axes>"
      ]
     },
     "metadata": {
      "needs_background": "light"
     },
     "output_type": "display_data"
    }
   ],
   "source": [
    "class_0 = data.loc[data['Loan_Status'] == 0][\"ApplicantIncome\"]\n",
    "class_1 = data.loc[data['Loan_Status'] == 1][\"ApplicantIncome\"]\n",
    "plt.figure(figsize = (14,6))\n",
    "plt.title('Default amount (Density Plot)')\n",
    "sns.set_color_codes(\"pastel\")\n",
    "sns.distplot(class_1,kde=True,bins=200, color=\"red\")\n",
    "sns.distplot(class_0,kde=True,bins=200, color=\"green\")\n",
    "plt.show()"
   ]
  },
  {
   "cell_type": "markdown",
   "metadata": {},
   "source": [
    "Data is right skewed. Those with less Applicant Incomes have higher defaulting tendency. The highest default is for value 0.04."
   ]
  },
  {
   "cell_type": "code",
   "execution_count": 28,
   "metadata": {},
   "outputs": [
    {
     "data": {
      "image/png": "[encoded data removed]",
      "text/plain": [
       "<Figure size 1008x432 with 1 Axes>"
      ]
     },
     "metadata": {
      "needs_background": "light"
     },
     "output_type": "display_data"
    }
   ],
   "source": [
    "class_0 = data.loc[data['Loan_Status'] == 0][\"LoanAmount\"]\n",
    "class_1 = data.loc[data['Loan_Status'] == 1][\"LoanAmount\"]\n",
    "plt.figure(figsize = (14,6))\n",
    "plt.title('Default amount (Density Plot)')\n",
    "sns.set_color_codes(\"pastel\")\n",
    "sns.distplot(class_1,kde=True,bins=200, color=\"red\")\n",
    "sns.distplot(class_0,kde=True,bins=200, color=\"green\")\n",
    "plt.show()"
   ]
  },
  {
   "cell_type": "markdown",
   "metadata": {},
   "source": [
    "Data has a normal distribution."
   ]
  },
  {
   "cell_type": "markdown",
   "metadata": {},
   "source": [
    "# Pre-Processing"
   ]
  },
  {
   "cell_type": "code",
   "execution_count": 29,
   "metadata": {},
   "outputs": [],
   "source": [
    "#Split test and train data\n",
    "x = data.drop(columns = 'Loan_Status')\n",
    "y = data['Loan_Status']\n",
    "\n",
    "#will train on 70% of the data, test on the remaining 30%\n",
    "x_train, x_test, y_train, y_test = train_test_split(x, y, test_size=0.30, random_state=50)"
   ]
  },
  {
   "cell_type": "code",
   "execution_count": 30,
   "metadata": {},
   "outputs": [
    {
     "data": {
      "text/plain": [
       "0.0    0.692308\n",
       "1.0    0.307692\n",
       "Name: Loan_Status, dtype: float64"
      ]
     },
     "execution_count": 30,
     "metadata": {},
     "output_type": "execute_result"
    }
   ],
   "source": [
    "y.value_counts(normalize=True)"
   ]
  },
  {
   "cell_type": "markdown",
   "metadata": {},
   "source": [
    "Majority class (not default) has 69% samples. Minority class (default) has 31% samples. Data is imbalanced. Thus, will apply SMOTE."
   ]
  },
  {
   "cell_type": "code",
   "execution_count": 31,
   "metadata": {},
   "outputs": [],
   "source": [
    "from imblearn.over_sampling import SMOTE\n",
    "#so as not to lose any important information, apply SMOTE (Synthetic Minority Oversampling Technique) to fix class imbalance\n",
    "sm = SMOTE(random_state=10)\n",
    "x_smote, y_smote = sm.fit_sample(x_train, y_train)"
   ]
  },
  {
   "cell_type": "markdown",
   "metadata": {},
   "source": [
    "# Modeling"
   ]
  },
  {
   "cell_type": "markdown",
   "metadata": {},
   "source": [
    "# 1. Logistic Regression"
   ]
  },
  {
   "cell_type": "code",
   "execution_count": 32,
   "metadata": {},
   "outputs": [
    {
     "name": "stdout",
     "output_type": "stream",
     "text": [
      "[[99 14]\n",
      " [14 33]]\n",
      "              precision    recall  f1-score   support\n",
      "\n",
      "         0.0       0.88      0.88      0.88       113\n",
      "         1.0       0.70      0.70      0.70        47\n",
      "\n",
      "    accuracy                           0.82       160\n",
      "   macro avg       0.79      0.79      0.79       160\n",
      "weighted avg       0.82      0.82      0.82       160\n",
      "\n"
     ]
    }
   ],
   "source": [
    "from sklearn.linear_model import LogisticRegression\n",
    "from sklearn.model_selection import GridSearchCV\n",
    "param_grid = {'C': [0.001, 0.01, 1, 10]}\n",
    "\n",
    "lr = LogisticRegression(penalty='l2', class_weight='balanced')\n",
    "lr = GridSearchCV(estimator = lr, param_grid = param_grid, n_jobs = -1)\n",
    "lr.fit(x_train, y_train)\n",
    "y_pred = lr.predict(x_test)\n",
    "\n",
    "print(confusion_matrix(y_test, y_pred))\n",
    "print(classification_report(y_test, y_pred))"
   ]
  },
  {
   "cell_type": "code",
   "execution_count": 33,
   "metadata": {},
   "outputs": [
    {
     "data": {
      "text/plain": [
       "Text(0.5, 0, 'False Positive Rate')"
      ]
     },
     "execution_count": 33,
     "metadata": {},
     "output_type": "execute_result"
    },
    {
     "data": {
      "image/png": "[encoded data removed]",
      "text/plain": [
       "<Figure size 432x432 with 1 Axes>"
      ]
     },
     "metadata": {
      "needs_background": "light"
     },
     "output_type": "display_data"
    }
   ],
   "source": [
    "from sklearn.metrics import roc_curve, auc\n",
    "y_prob = lr.predict_proba(x_test)[:,1]\n",
    "false_positive_rate, true_positive_rate, thresholds = roc_curve(y_test, y_prob)\n",
    "roc_auc = auc(false_positive_rate, true_positive_rate)\n",
    "\n",
    "import matplotlib.pyplot as plt\n",
    "plt.figure(figsize=(6,6))\n",
    "plt.title('Receiver Operating Characteristic')\n",
    "plt.plot(false_positive_rate,true_positive_rate, color='red',label = 'AUC = %0.2f' % roc_auc)\n",
    "plt.legend(loc = 'lower right')\n",
    "plt.plot([0, 1], [0, 1],linestyle='--')\n",
    "plt.axis('tight')\n",
    "plt.ylabel('True Positive Rate')\n",
    "plt.xlabel('False Positive Rate')"
   ]
  },
  {
   "cell_type": "code",
   "execution_count": 34,
   "metadata": {},
   "outputs": [
    {
     "name": "stdout",
     "output_type": "stream",
     "text": [
      "[[98 15]\n",
      " [15 32]]\n",
      "              precision    recall  f1-score   support\n",
      "\n",
      "         0.0       0.87      0.87      0.87       113\n",
      "         1.0       0.68      0.68      0.68        47\n",
      "\n",
      "    accuracy                           0.81       160\n",
      "   macro avg       0.77      0.77      0.77       160\n",
      "weighted avg       0.81      0.81      0.81       160\n",
      "\n"
     ]
    }
   ],
   "source": [
    "lr.fit(x_smote, y_smote)\n",
    "y_pred = lr.predict(x_test)\n",
    "\n",
    "print(confusion_matrix(y_test, y_pred))\n",
    "print(classification_report(y_test, y_pred))"
   ]
  },
  {
   "cell_type": "markdown",
   "metadata": {},
   "source": [
    "Best result on original data = 0.82, AUC = 0.88"
   ]
  },
  {
   "cell_type": "markdown",
   "metadata": {},
   "source": [
    "# 2. Decision Tree"
   ]
  },
  {
   "cell_type": "code",
   "execution_count": 35,
   "metadata": {},
   "outputs": [
    {
     "name": "stdout",
     "output_type": "stream",
     "text": [
      "Training score:  0.8257372654155496\n",
      "Testing score:  0.85\n"
     ]
    }
   ],
   "source": [
    "from sklearn.tree import DecisionTreeClassifier\n",
    "\n",
    "# Decision tree with depth = 2\n",
    "dt2 = tree.DecisionTreeClassifier(random_state=42, max_depth=2)\n",
    "dt2.fit(x_train, y_train)\n",
    "dt2_score_train = dt2.score(x_train, y_train)\n",
    "print(\"Training score: \",dt2_score_train)\n",
    "dt2_score_test = dt2.score(x_test, y_test)\n",
    "print(\"Testing score: \",dt2_score_test)"
   ]
  },
  {
   "cell_type": "code",
   "execution_count": 36,
   "metadata": {},
   "outputs": [
    {
     "name": "stdout",
     "output_type": "stream",
     "text": [
      "Training score:  0.8284182305630027\n",
      "Testing score:  0.84375\n"
     ]
    }
   ],
   "source": [
    "# Decision tree with depth = 3\n",
    "dt3 = tree.DecisionTreeClassifier(random_state=42, max_depth=3)\n",
    "dt3.fit(x_train, y_train)\n",
    "dt3_score_train = dt3.score(x_train, y_train)\n",
    "print(\"Training score: \",dt3_score_train)\n",
    "dt3_score_test = dt3.score(x_test, y_test)\n",
    "print(\"Testing score: \",dt3_score_test)"
   ]
  },
  {
   "cell_type": "code",
   "execution_count": 37,
   "metadata": {},
   "outputs": [
    {
     "name": "stdout",
     "output_type": "stream",
     "text": [
      "Training score:  0.8445040214477212\n",
      "Testing score:  0.84375\n"
     ]
    }
   ],
   "source": [
    "# Decision tree with depth = 4\n",
    "dt4 = tree.DecisionTreeClassifier(random_state=42, max_depth=4)\n",
    "dt4.fit(x_train, y_train)\n",
    "dt4_score_train = dt4.score(x_train, y_train)\n",
    "print(\"Training score: \",dt4_score_train)\n",
    "dt4_score_test = dt4.score(x_test, y_test)\n",
    "print(\"Testing score: \",dt4_score_test)"
   ]
  },
  {
   "cell_type": "code",
   "execution_count": 38,
   "metadata": {},
   "outputs": [
    {
     "name": "stdout",
     "output_type": "stream",
     "text": [
      "Training score:  1.0\n",
      "Testing score:  0.7625\n"
     ]
    }
   ],
   "source": [
    "# Decision tree: To the full depth\n",
    "dt1 = tree.DecisionTreeClassifier()\n",
    "dt1.fit(x_train, y_train)\n",
    "dt1_score_train = dt1.score(x_train, y_train)\n",
    "print(\"Training score: \", dt1_score_train)\n",
    "dt1_score_test = dt1.score(x_test, y_test)\n",
    "print(\"Testing score: \", dt1_score_test)"
   ]
  },
  {
   "cell_type": "code",
   "execution_count": 39,
   "metadata": {},
   "outputs": [
    {
     "name": "stdout",
     "output_type": "stream",
     "text": [
      "depth      Training score       Testing score       \n",
      "-----      --------------       -------------       \n",
      "2        0.8257372654155496                 0.85\n",
      "3        0.8284182305630027              0.84375\n",
      "4        0.8445040214477212              0.84375\n",
      "max                     1.0               0.7625\n"
     ]
    }
   ],
   "source": [
    "#Compare Training and Testing scores for various tree depths used\n",
    "print('{:10} {:20} {:20}'.format('depth', 'Training score','Testing score'))\n",
    "print('{:10} {:20} {:20}'.format('-----', '--------------','-------------'))\n",
    "print('{:1} {:>25} {:>20}'.format(2, dt2_score_train, dt2_score_test))\n",
    "print('{:1} {:>25} {:>20}'.format(3, dt3_score_train, dt3_score_test))\n",
    "print('{:1} {:>25} {:>20}'.format(4, dt4_score_train, dt4_score_test))\n",
    "print('{:1} {:>23} {:>20}'.format(\"max\", dt1_score_train, dt1_score_test))"
   ]
  },
  {
   "cell_type": "markdown",
   "metadata": {},
   "source": [
    "Highest testing accuracy reached at depth 2. At this depth, training accuracy is good too so will go with this."
   ]
  },
  {
   "cell_type": "code",
   "execution_count": 40,
   "metadata": {},
   "outputs": [
    {
     "name": "stdout",
     "output_type": "stream",
     "text": [
      "[[109   4]\n",
      " [ 20  27]]\n",
      "              precision    recall  f1-score   support\n",
      "\n",
      "         0.0       0.84      0.96      0.90       113\n",
      "         1.0       0.87      0.57      0.69        47\n",
      "\n",
      "    accuracy                           0.85       160\n",
      "   macro avg       0.86      0.77      0.80       160\n",
      "weighted avg       0.85      0.85      0.84       160\n",
      "\n"
     ]
    }
   ],
   "source": [
    "y_pred = dt2.predict(x_test)\n",
    "\n",
    "print(confusion_matrix(y_test, y_pred))\n",
    "print(classification_report(y_test, y_pred))"
   ]
  },
  {
   "cell_type": "code",
   "execution_count": 41,
   "metadata": {},
   "outputs": [
    {
     "data": {
      "text/plain": [
       "Text(0.5, 0, 'False Positive Rate')"
      ]
     },
     "execution_count": 41,
     "metadata": {},
     "output_type": "execute_result"
    },
    {
     "data": {
      "image/png": "[encoded data removed]",
      "text/plain": [
       "<Figure size 432x432 with 1 Axes>"
      ]
     },
     "metadata": {
      "needs_background": "light"
     },
     "output_type": "display_data"
    }
   ],
   "source": [
    "y_prob = dt2.predict_proba(x_test)[:,1]\n",
    "false_positive_rate, true_positive_rate, thresholds = roc_curve(y_test, y_prob)\n",
    "roc_auc = auc(false_positive_rate, true_positive_rate)\n",
    "\n",
    "plt.figure(figsize=(6,6))\n",
    "plt.title('Receiver Operating Characteristic')\n",
    "plt.plot(false_positive_rate,true_positive_rate, color='red',label = 'AUC = %0.2f' % roc_auc)\n",
    "plt.legend(loc = 'lower right')\n",
    "plt.plot([0, 1], [0, 1],linestyle='--')\n",
    "plt.axis('tight')\n",
    "plt.ylabel('True Positive Rate')\n",
    "plt.xlabel('False Positive Rate')"
   ]
  },
  {
   "cell_type": "code",
   "execution_count": 42,
   "metadata": {},
   "outputs": [
    {
     "name": "stdout",
     "output_type": "stream",
     "text": [
      "Training score:  0.755859375\n",
      "Testing score:  0.85\n",
      "[[109   4]\n",
      " [ 20  27]]\n",
      "              precision    recall  f1-score   support\n",
      "\n",
      "         0.0       0.84      0.96      0.90       113\n",
      "         1.0       0.87      0.57      0.69        47\n",
      "\n",
      "    accuracy                           0.85       160\n",
      "   macro avg       0.86      0.77      0.80       160\n",
      "weighted avg       0.85      0.85      0.84       160\n",
      "\n"
     ]
    }
   ],
   "source": [
    "dt2.fit(x_smote, y_smote)\n",
    "dt2_score_train = dt2.score(x_smote, y_smote)\n",
    "print(\"Training score: \",dt2_score_train)\n",
    "dt2_score_test = dt2.score(x_test, y_test)\n",
    "print(\"Testing score: \",dt2_score_test)\n",
    "\n",
    "y_pred = dt2.predict(x_test)\n",
    "print(confusion_matrix(y_test, y_pred))\n",
    "print(classification_report(y_test, y_pred))"
   ]
  },
  {
   "cell_type": "markdown",
   "metadata": {},
   "source": [
    "Best result on original data = 0.85, AUC = 0.82"
   ]
  },
  {
   "cell_type": "markdown",
   "metadata": {},
   "source": [
    "# 3. Random Forest Classifier"
   ]
  },
  {
   "cell_type": "code",
   "execution_count": 43,
   "metadata": {},
   "outputs": [],
   "source": [
    "from sklearn.ensemble import RandomForestClassifier\n",
    "from sklearn.model_selection import RandomizedSearchCV\n",
    "rf = RandomForestClassifier(n_estimators=100)"
   ]
  },
  {
   "cell_type": "code",
   "execution_count": 44,
   "metadata": {},
   "outputs": [
    {
     "name": "stdout",
     "output_type": "stream",
     "text": [
      "[[108   5]\n",
      " [ 14  33]]\n",
      "              precision    recall  f1-score   support\n",
      "\n",
      "         0.0       0.89      0.96      0.92       113\n",
      "         1.0       0.87      0.70      0.78        47\n",
      "\n",
      "    accuracy                           0.88       160\n",
      "   macro avg       0.88      0.83      0.85       160\n",
      "weighted avg       0.88      0.88      0.88       160\n",
      "\n"
     ]
    }
   ],
   "source": [
    "rf.fit(x_train, y_train)\n",
    "y_pred = rf.predict(x_test)\n",
    "\n",
    "print(confusion_matrix(y_test, y_pred))\n",
    "print(classification_report(y_test, y_pred))"
   ]
  },
  {
   "cell_type": "code",
   "execution_count": 45,
   "metadata": {},
   "outputs": [
    {
     "data": {
      "text/plain": [
       "Text(0.5, 0, 'False Positive Rate')"
      ]
     },
     "execution_count": 45,
     "metadata": {},
     "output_type": "execute_result"
    },
    {
     "data": {
      "image/png": "[encoded data removed]",
      "text/plain": [
       "<Figure size 432x432 with 1 Axes>"
      ]
     },
     "metadata": {
      "needs_background": "light"
     },
     "output_type": "display_data"
    }
   ],
   "source": [
    "y_prob = rf.predict_proba(x_test)[:,1]\n",
    "false_positive_rate, true_positive_rate, thresholds = roc_curve(y_test, y_prob)\n",
    "roc_auc = auc(false_positive_rate, true_positive_rate)\n",
    "\n",
    "plt.figure(figsize=(6,6))\n",
    "plt.title('Receiver Operating Characteristic')\n",
    "plt.plot(false_positive_rate,true_positive_rate, color='red',label = 'AUC = %0.2f' % roc_auc)\n",
    "plt.legend(loc = 'lower right')\n",
    "plt.plot([0, 1], [0, 1],linestyle='--')\n",
    "plt.axis('tight')\n",
    "plt.ylabel('True Positive Rate')\n",
    "plt.xlabel('False Positive Rate')"
   ]
  },
  {
   "cell_type": "code",
   "execution_count": 46,
   "metadata": {},
   "outputs": [
    {
     "name": "stdout",
     "output_type": "stream",
     "text": [
      "[[102  11]\n",
      " [ 14  33]]\n",
      "              precision    recall  f1-score   support\n",
      "\n",
      "         0.0       0.88      0.90      0.89       113\n",
      "         1.0       0.75      0.70      0.73        47\n",
      "\n",
      "    accuracy                           0.84       160\n",
      "   macro avg       0.81      0.80      0.81       160\n",
      "weighted avg       0.84      0.84      0.84       160\n",
      "\n"
     ]
    }
   ],
   "source": [
    "rf.fit(x_smote, y_smote)\n",
    "y_pred = rf.predict(x_test)\n",
    "print(confusion_matrix(y_test, y_pred))\n",
    "print(classification_report(y_test, y_pred))"
   ]
  },
  {
   "cell_type": "markdown",
   "metadata": {},
   "source": [
    "Best result on original data = 0.86, AUC = 0.86"
   ]
  },
  {
   "cell_type": "markdown",
   "metadata": {},
   "source": [
    "# 4. Support Vector Machine (SVM)"
   ]
  },
  {
   "cell_type": "code",
   "execution_count": 47,
   "metadata": {},
   "outputs": [],
   "source": [
    "from sklearn import svm\n",
    "from sklearn import metrics"
   ]
  },
  {
   "cell_type": "code",
   "execution_count": 48,
   "metadata": {},
   "outputs": [
    {
     "name": "stdout",
     "output_type": "stream",
     "text": [
      "Accuracy: 0.70625\n",
      "              precision    recall  f1-score   support\n",
      "\n",
      "         0.0       0.71      1.00      0.83       113\n",
      "         1.0       0.00      0.00      0.00        47\n",
      "\n",
      "    accuracy                           0.71       160\n",
      "   macro avg       0.35      0.50      0.41       160\n",
      "weighted avg       0.50      0.71      0.58       160\n",
      "\n"
     ]
    },
    {
     "name": "stderr",
     "output_type": "stream",
     "text": [
      "C:\\Users\\Lt col Haider\\anaconda3\\lib\\site-packages\\sklearn\\metrics\\_classification.py:1272: UndefinedMetricWarning: Precision and F-score are ill-defined and being set to 0.0 in labels with no predicted samples. Use `zero_division` parameter to control this behavior.\n",
      "  _warn_prf(average, modifier, msg_start, len(result))\n"
     ]
    }
   ],
   "source": [
    "#Radial Basis Function Kernel with low gamma 0.01\n",
    "\n",
    "clf = svm.SVC(kernel='rbf', random_state=0, gamma=.01, C=1) \n",
    "\n",
    "#Train the model using the training sets\n",
    "clf.fit(x_train, y_train)\n",
    "\n",
    "#Predict the response for test dataset\n",
    "y_pred = clf.predict(x_test)\n",
    "\n",
    "print(\"Accuracy:\",metrics.accuracy_score(y_test, y_pred))\n",
    "confusion_matrix(y_test, y_pred)\n",
    "print(classification_report(y_test, y_pred))"
   ]
  },
  {
   "cell_type": "code",
   "execution_count": 49,
   "metadata": {},
   "outputs": [
    {
     "name": "stdout",
     "output_type": "stream",
     "text": [
      "Accuracy: 0.8625\n",
      "[[111   2]\n",
      " [ 20  27]]\n",
      "              precision    recall  f1-score   support\n",
      "\n",
      "         0.0       0.85      0.98      0.91       113\n",
      "         1.0       0.93      0.57      0.71        47\n",
      "\n",
      "    accuracy                           0.86       160\n",
      "   macro avg       0.89      0.78      0.81       160\n",
      "weighted avg       0.87      0.86      0.85       160\n",
      "\n"
     ]
    }
   ],
   "source": [
    "#Radial Basis Fnction Kernel with penalty parameter c = 1000.\n",
    "#classifier starts to become very intolerant to misclassified data points and thus the decision boundary becomes less biased and has more variance (i.e. more dependent on the individual data points)\n",
    "clf = svm.SVC(kernel='rbf', random_state=0, gamma=.01, C=1000) \n",
    "\n",
    "#Train the model using the training sets\n",
    "clf.fit(x_train, y_train)\n",
    "\n",
    "#Predict the response for test dataset\n",
    "y_pred = clf.predict(x_test)\n",
    "\n",
    "#takes too much training time.\n",
    "from sklearn import metrics\n",
    "\n",
    "# model accuracy:\n",
    "print(\"Accuracy:\",metrics.accuracy_score(y_test, y_pred))\n",
    "print(confusion_matrix(y_test, y_pred))\n",
    "print(classification_report(y_test, y_pred))"
   ]
  },
  {
   "cell_type": "code",
   "execution_count": 50,
   "metadata": {},
   "outputs": [
    {
     "data": {
      "text/plain": [
       "Text(0.5, 0, 'False Positive Rate')"
      ]
     },
     "execution_count": 50,
     "metadata": {},
     "output_type": "execute_result"
    },
    {
     "data": {
      "image/png": "[encoded data removed]",
      "text/plain": [
       "<Figure size 432x432 with 1 Axes>"
      ]
     },
     "metadata": {
      "needs_background": "light"
     },
     "output_type": "display_data"
    }
   ],
   "source": [
    "false_positive_rate, true_positive_rate, thresholds = roc_curve(y_test, y_pred)\n",
    "roc_auc = auc(false_positive_rate, true_positive_rate)\n",
    "\n",
    "plt.figure(figsize=(6,6))\n",
    "plt.title('Receiver Operating Characteristic')\n",
    "plt.plot(false_positive_rate,true_positive_rate, color='red',label = 'AUC = %0.2f' % roc_auc)\n",
    "plt.legend(loc = 'lower right')\n",
    "plt.plot([0, 1], [0, 1],linestyle='--')\n",
    "plt.axis('tight')\n",
    "plt.ylabel('True Positive Rate')\n",
    "plt.xlabel('False Positive Rate')"
   ]
  },
  {
   "cell_type": "code",
   "execution_count": 51,
   "metadata": {},
   "outputs": [
    {
     "name": "stdout",
     "output_type": "stream",
     "text": [
      "Accuracy: 0.83125\n",
      "[[103  10]\n",
      " [ 17  30]]\n",
      "              precision    recall  f1-score   support\n",
      "\n",
      "         0.0       0.86      0.91      0.88       113\n",
      "         1.0       0.75      0.64      0.69        47\n",
      "\n",
      "    accuracy                           0.83       160\n",
      "   macro avg       0.80      0.77      0.79       160\n",
      "weighted avg       0.83      0.83      0.83       160\n",
      "\n"
     ]
    }
   ],
   "source": [
    "#Radial Basis Fnction Kernel with penalty parameter c = 1000.\n",
    "#classifier starts to become very intolerant to misclassified data points and thus the decision boundary becomes less biased and has more variance (i.e. more dependent on the individual data points)\n",
    "clf = svm.SVC(kernel='rbf', random_state=0, gamma=.01, C=1000) \n",
    "\n",
    "#Train the model using the training sets\n",
    "clf.fit(x_smote, y_smote)\n",
    "\n",
    "#Predict the response for test dataset\n",
    "y_pred = clf.predict(x_test)\n",
    "\n",
    "#takes too much training time.\n",
    "from sklearn import metrics\n",
    "\n",
    "# model accuracy:\n",
    "print(\"Accuracy:\",metrics.accuracy_score(y_test, y_pred))\n",
    "print(confusion_matrix(y_test, y_pred))\n",
    "print(classification_report(y_test, y_pred))"
   ]
  },
  {
   "cell_type": "markdown",
   "metadata": {},
   "source": [
    "Best result on original data = 0.86, AUC = 0.78"
   ]
  },
  {
   "cell_type": "markdown",
   "metadata": {},
   "source": [
    "# 5. Naive Bayes"
   ]
  },
  {
   "cell_type": "code",
   "execution_count": 52,
   "metadata": {},
   "outputs": [
    {
     "name": "stdout",
     "output_type": "stream",
     "text": [
      "Accuracy: 0.8625\n",
      "[[111   2]\n",
      " [ 20  27]]\n",
      "              precision    recall  f1-score   support\n",
      "\n",
      "         0.0       0.85      0.98      0.91       113\n",
      "         1.0       0.93      0.57      0.71        47\n",
      "\n",
      "    accuracy                           0.86       160\n",
      "   macro avg       0.89      0.78      0.81       160\n",
      "weighted avg       0.87      0.86      0.85       160\n",
      "\n"
     ]
    }
   ],
   "source": [
    "from sklearn.naive_bayes import GaussianNB\n",
    "naive = GaussianNB()\n",
    "naive.fit(x_train, y_train)\n",
    "    \n",
    "# Make predictions and evalute\n",
    "y_pred = naive.predict(x_test)\n",
    "\n",
    "print(\"Accuracy:\",metrics.accuracy_score(y_test, y_pred))\n",
    "print(confusion_matrix(y_test, y_pred))    \n",
    "print(classification_report(y_test, y_pred))"
   ]
  },
  {
   "cell_type": "code",
   "execution_count": 53,
   "metadata": {},
   "outputs": [
    {
     "data": {
      "text/plain": [
       "Text(0.5, 0, 'False Positive Rate')"
      ]
     },
     "execution_count": 53,
     "metadata": {},
     "output_type": "execute_result"
    },
    {
     "data": {
      "image/png": "[encoded data removed]",
      "text/plain": [
       "<Figure size 432x432 with 1 Axes>"
      ]
     },
     "metadata": {
      "needs_background": "light"
     },
     "output_type": "display_data"
    }
   ],
   "source": [
    "y_prob = naive.predict_proba(x_test)[:,1]\n",
    "false_positive_rate, true_positive_rate, thresholds = roc_curve(y_test, y_prob)\n",
    "roc_auc = auc(false_positive_rate, true_positive_rate)\n",
    "\n",
    "plt.figure(figsize=(6,6))\n",
    "plt.title('Receiver Operating Characteristic')\n",
    "plt.plot(false_positive_rate,true_positive_rate, color='red',label = 'AUC = %0.2f' % roc_auc)\n",
    "plt.legend(loc = 'lower right')\n",
    "plt.plot([0, 1], [0, 1],linestyle='--')\n",
    "plt.axis('tight')\n",
    "plt.ylabel('True Positive Rate')\n",
    "plt.xlabel('False Positive Rate')"
   ]
  },
  {
   "cell_type": "code",
   "execution_count": 54,
   "metadata": {},
   "outputs": [
    {
     "name": "stdout",
     "output_type": "stream",
     "text": [
      "Accuracy: 0.8375\n",
      "[[106   7]\n",
      " [ 19  28]]\n",
      "              precision    recall  f1-score   support\n",
      "\n",
      "         0.0       0.85      0.94      0.89       113\n",
      "         1.0       0.80      0.60      0.68        47\n",
      "\n",
      "    accuracy                           0.84       160\n",
      "   macro avg       0.82      0.77      0.79       160\n",
      "weighted avg       0.83      0.84      0.83       160\n",
      "\n"
     ]
    }
   ],
   "source": [
    "naive.fit(x_smote, y_smote)\n",
    "    \n",
    "# Make predictions and evalute\n",
    "y_pred = naive.predict(x_test)\n",
    "print(\"Accuracy:\",metrics.accuracy_score(y_test, y_pred))\n",
    "print(confusion_matrix(y_test, y_pred))    \n",
    "print(classification_report(y_test, y_pred))"
   ]
  },
  {
   "cell_type": "markdown",
   "metadata": {},
   "source": [
    "Best result on original data = 0.86, AUC = 0.88"
   ]
  },
  {
   "cell_type": "markdown",
   "metadata": {},
   "source": [
    "# 6. XGBoost Classifier"
   ]
  },
  {
   "cell_type": "code",
   "execution_count": 55,
   "metadata": {},
   "outputs": [],
   "source": [
    "from xgboost import XGBClassifier\n",
    "\n",
    "model = XGBClassifier(silent=False, \n",
    "                      scale_pos_weight=1,\n",
    "                      learning_rate=0.01,  \n",
    "                      colsample_bytree = 0.8,\n",
    "                      subsample = 0.8,\n",
    "                      objective='binary:logistic', \n",
    "                      n_estimators=100, \n",
    "                      reg_alpha = 0.3,\n",
    "                      max_depth=4, \n",
    "                      gamma=5)"
   ]
  },
  {
   "cell_type": "code",
   "execution_count": 56,
   "metadata": {},
   "outputs": [
    {
     "name": "stdout",
     "output_type": "stream",
     "text": [
      "Accuracy: 0.85625\n",
      "[[109   4]\n",
      " [ 19  28]]\n",
      "              precision    recall  f1-score   support\n",
      "\n",
      "         0.0       0.85      0.96      0.90       113\n",
      "         1.0       0.88      0.60      0.71        47\n",
      "\n",
      "    accuracy                           0.86       160\n",
      "   macro avg       0.86      0.78      0.81       160\n",
      "weighted avg       0.86      0.86      0.85       160\n",
      "\n"
     ]
    }
   ],
   "source": [
    "model.fit(x_train, y_train)\n",
    "    \n",
    "# Make predictions and evalute\n",
    "y_pred = model.predict(x_test)\n",
    "\n",
    "print(\"Accuracy:\",metrics.accuracy_score(y_test, y_pred))\n",
    "print(confusion_matrix(y_test, y_pred)) \n",
    "print(classification_report(y_test, y_pred))"
   ]
  },
  {
   "cell_type": "code",
   "execution_count": 57,
   "metadata": {},
   "outputs": [
    {
     "data": {
      "text/plain": [
       "Text(0.5, 0, 'False Positive Rate')"
      ]
     },
     "execution_count": 57,
     "metadata": {},
     "output_type": "execute_result"
    },
    {
     "data": {
      "image/png": "[encoded data removed]",
      "text/plain": [
       "<Figure size 432x432 with 1 Axes>"
      ]
     },
     "metadata": {
      "needs_background": "light"
     },
     "output_type": "display_data"
    }
   ],
   "source": [
    "y_prob = model.predict_proba(x_test)[:,1]\n",
    "false_positive_rate, true_positive_rate, thresholds = roc_curve(y_test, y_prob)\n",
    "roc_auc = auc(false_positive_rate, true_positive_rate)\n",
    "\n",
    "plt.figure(figsize=(6,6))\n",
    "plt.title('Receiver Operating Characteristic')\n",
    "plt.plot(false_positive_rate,true_positive_rate, color='red',label = 'AUC = %0.2f' % roc_auc)\n",
    "plt.legend(loc = 'lower right')\n",
    "plt.plot([0, 1], [0, 1],linestyle='--')\n",
    "plt.axis('tight')\n",
    "plt.ylabel('True Positive Rate')\n",
    "plt.xlabel('False Positive Rate')"
   ]
  },
  {
   "cell_type": "code",
   "execution_count": 58,
   "metadata": {},
   "outputs": [
    {
     "name": "stdout",
     "output_type": "stream",
     "text": [
      "Accuracy: 0.86875\n",
      "[[109   4]\n",
      " [ 17  30]]\n",
      "              precision    recall  f1-score   support\n",
      "\n",
      "         0.0       0.87      0.96      0.91       113\n",
      "         1.0       0.88      0.64      0.74        47\n",
      "\n",
      "    accuracy                           0.87       160\n",
      "   macro avg       0.87      0.80      0.83       160\n",
      "weighted avg       0.87      0.87      0.86       160\n",
      "\n"
     ]
    }
   ],
   "source": [
    "model.fit(x_smote, y_smote)\n",
    "    \n",
    "# Make predictions and evalute\n",
    "y_pred = model.predict(x_test)\n",
    "print(\"Accuracy:\",metrics.accuracy_score(y_test, y_pred))\n",
    "print(confusion_matrix(y_test, y_pred)) \n",
    "print(classification_report(y_test, y_pred))"
   ]
  },
  {
   "cell_type": "code",
   "execution_count": 59,
   "metadata": {},
   "outputs": [
    {
     "data": {
      "text/plain": [
       "Text(0.5, 0, 'False Positive Rate')"
      ]
     },
     "execution_count": 59,
     "metadata": {},
     "output_type": "execute_result"
    },
    {
     "data": {
      "image/png": "[encoded data removed]",
      "text/plain": [
       "<Figure size 432x432 with 1 Axes>"
      ]
     },
     "metadata": {
      "needs_background": "light"
     },
     "output_type": "display_data"
    }
   ],
   "source": [
    "y_prob = model.predict_proba(x_test)[:,1]\n",
    "false_positive_rate, true_positive_rate, thresholds = roc_curve(y_test, y_prob)\n",
    "roc_auc = auc(false_positive_rate, true_positive_rate)\n",
    "\n",
    "plt.figure(figsize=(6,6))\n",
    "plt.title('Receiver Operating Characteristic')\n",
    "plt.plot(false_positive_rate,true_positive_rate, color='red',label = 'AUC = %0.2f' % roc_auc)\n",
    "plt.legend(loc = 'lower right')\n",
    "plt.plot([0, 1], [0, 1],linestyle='--')\n",
    "plt.axis('tight')\n",
    "plt.ylabel('True Positive Rate')\n",
    "plt.xlabel('False Positive Rate')"
   ]
  },
  {
   "cell_type": "markdown",
   "metadata": {},
   "source": [
    "Best result on original data = 0.87, AUC = 0.89"
   ]
  },
  {
   "cell_type": "code",
   "execution_count": null,
   "metadata": {},
   "outputs": [],
   "source": [
    "Best Accuracy = 0.87, XGB | Best AUC = 0.89 XGB | Best Model = XGBoost Classifier"
   ]
  }
 ],
 "metadata": {
  "kernelspec": {
   "display_name": "Python 3",
   "language": "python",
   "name": "python3"
  },
  "language_info": {
   "codemirror_mode": {
    "name": "ipython",
    "version": 3
   },
   "file_extension": ".py",
   "mimetype": "text/x-python",
   "name": "python",
   "nbconvert_exporter": "python",
   "pygments_lexer": "ipython3",
   "version": "3.7.6"
  }
 },
 "nbformat": 4,
 "nbformat_minor": 4
}
